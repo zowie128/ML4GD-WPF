{
 "cells": [
  {
   "cell_type": "code",
   "metadata": {
    "ExecuteTime": {
     "end_time": "2024-06-11T21:48:01.958266Z",
     "start_time": "2024-06-11T21:47:57.961583Z"
    }
   },
   "source": [
    "import sys\n",
    "import csv\n",
    "sys.path.append('..')\n",
    "from BDDData import *\n",
    "import numpy as np\n",
    "import torch\n",
    "import torch.utils.data as data\n",
    "\n",
    "import networkx as nx\n",
    "import matplotlib.pyplot as plt\n",
    "from scipy.linalg import circulant\n",
    "from product_graph import *\n",
    "from utils import *"
   ],
   "outputs": [],
   "execution_count": 1
  },
  {
   "cell_type": "code",
   "metadata": {
    "ExecuteTime": {
     "end_time": "2024-06-11T21:48:17.009152Z",
     "start_time": "2024-06-11T21:48:06.446623Z"
    }
   },
   "source": [
    "#Load dataframes\n",
    "bdd_data = BDD_dataset(\"raw_data/BDDdata/\")\n",
    "#Add column with the timestep\n",
    "bdd_data.add_timestep_id()\n",
    "#Add flags for chaotic values\n",
    "bdd_data.tag_chaotic(replace=True)\n",
    "#Compute the mod for the nazelle and wind angles\n",
    "bdd_data.angle_mod()\n",
    "#Interpolate the missing values\n",
    "bdd_data.interpolate_power()\n",
    "#Values smaller than 0 are set to 0\n",
    "bdd_data.cap_power_to_zero()\n",
    "#Normalize Patv feature to [0,1]\n",
    "bdd_data.normalize_power(min=0, max=1, method= \"MinMaxScaler\")\n",
    "#Convert df to matrix form, where only Patv is included. Then split into train, validation and test\n",
    "#The matrix contains the subset of the time series for ALL nodes, so an (TxN matrix)\n",
    "train, val, test = bdd_data.split_df()"
   ],
   "outputs": [],
   "execution_count": 2
  },
  {
   "cell_type": "code",
   "metadata": {
    "ExecuteTime": {
     "end_time": "2024-06-11T22:36:18.877261Z",
     "start_time": "2024-06-11T22:36:18.844084Z"
    }
   },
   "source": [
    "class CustomBDD_Dataset(data.Dataset):\n",
    "    def __init__(self, dataset, observation_window=12, forecast_window=12, starting_turbine = 0,  ending_turbine=133):\n",
    "        self.observation_window = observation_window\n",
    "        self.forecast_window = forecast_window\n",
    "        length = eval(f'len({dataset}[0])')#Retrieves length of dataset\n",
    "        bdd_data.get_observation_forecasting_window(time_series_len=length, observation_steps=self.observation_window, forecast_steps=self.forecast_window)#Generates obs window\n",
    "        self.window_of_interest =  bdd_data.sliding_indices[str(self.observation_window)+\",\"+str(self.forecast_window)]#Retrieves windows\n",
    "        self.starting_turbine = starting_turbine\n",
    "        self.ending_turbine = ending_turbine  \n",
    "        self.dataset = dataset\n",
    "\n",
    "    def __len__(self):\n",
    "        return len(self.window_of_interest)\n",
    "\n",
    "    def __getitem__(self, idx):\n",
    "        window = self.window_of_interest[idx]\n",
    "        if self.dataset == \"train\":\n",
    "            features = train[self.starting_turbine:self.ending_turbine+1,window[0]:window[1]]\n",
    "            labels = train[self.starting_turbine:self.ending_turbine+1,window[1]:window[2]]\n",
    "        elif self.dataset == \"val\":\n",
    "            features = val[self.starting_turbine:self.ending_turbine+1,window[0]:window[1]]\n",
    "            labels = val[self.starting_turbine:self.ending_turbine+1,window[1]:window[2]]\n",
    "        elif self.dataset == \"test\":\n",
    "            features = test[self.starting_turbine:self.ending_turbine+1,window[0]:window[1]]\n",
    "            labels = test[self.starting_turbine:self.ending_turbine+1,window[1]:window[2]]\n",
    "        else:\n",
    "            raise NotImplementedError\n",
    "        return torch.from_numpy(features).float(), torch.from_numpy(labels).float()\n",
    "    \n",
    "obs_window = 12\n",
    "forecast_window = 12\n",
    "batch_size = 100\n",
    "\n",
    "train_dataset = CustomBDD_Dataset(\"train\",observation_window=obs_window,forecast_window=forecast_window)\n",
    "train_loader = data.DataLoader(train_dataset, shuffle=True, batch_size = batch_size)\n",
    "val_dataset = CustomBDD_Dataset(\"val\",observation_window=obs_window,forecast_window=forecast_window)\n",
    "val_loader = data.DataLoader(val_dataset, shuffle=True, batch_size = batch_size)"
   ],
   "outputs": [],
   "execution_count": 39
  },
  {
   "cell_type": "code",
   "metadata": {
    "ExecuteTime": {
     "end_time": "2024-06-11T22:36:16.676260Z",
     "start_time": "2024-06-11T22:36:16.657484Z"
    }
   },
   "source": [
    "x,y = next(iter(train_loader))\n",
    "print(f\"{x.shape=}\\n{y.shape=}\")"
   ],
   "outputs": [
    {
     "name": "stdout",
     "output_type": "stream",
     "text": [
      "x.shape=torch.Size([100, 134, 12])\n",
      "y.shape=torch.Size([100, 134, 12])\n"
     ]
    }
   ],
   "execution_count": 38
  },
  {
   "cell_type": "code",
   "metadata": {
    "ExecuteTime": {
     "end_time": "2024-06-11T22:36:21.641368Z",
     "start_time": "2024-06-11T22:36:21.354424Z"
    }
   },
   "source": [
    "G = nx.read_gml('data/spatial_graph_2000.gml')\n",
    "adj_mat = nx.adjacency_matrix(G)\n",
    "adj_mat = nx.to_numpy_array(G)"
   ],
   "outputs": [],
   "execution_count": 40
  },
  {
   "cell_type": "code",
   "metadata": {
    "ExecuteTime": {
     "end_time": "2024-06-11T22:49:36.222015Z",
     "start_time": "2024-06-11T22:49:36.214924Z"
    }
   },
   "source": "S = normalize_adjacency(torch.tensor(adj_mat)).float()",
   "outputs": [],
   "execution_count": 61
  },
  {
   "cell_type": "code",
   "metadata": {
    "ExecuteTime": {
     "end_time": "2024-06-11T22:49:36.663705Z",
     "start_time": "2024-06-11T22:49:36.653881Z"
    }
   },
   "source": [
    "print(adj_mat.shape)"
   ],
   "outputs": [
    {
     "name": "stdout",
     "output_type": "stream",
     "text": [
      "(134, 134)\n"
     ]
    }
   ],
   "execution_count": 62
  },
  {
   "metadata": {
    "ExecuteTime": {
     "end_time": "2024-06-11T22:50:28.165939Z",
     "start_time": "2024-06-11T22:50:28.146821Z"
    }
   },
   "cell_type": "code",
   "source": [
    "import torch\n",
    "import torch.nn as nn\n",
    "import torch.nn.functional as F\n",
    "\n",
    "\n",
    "class GCNLayer(nn.Module):\n",
    "    def __init__(self, in_features, out_features):\n",
    "        super(GCNLayer, self).__init__()\n",
    "        self.weights = nn.Parameter(torch.FloatTensor(in_features, out_features))\n",
    "        # use Xavier initialization to match variance of input with output\n",
    "        nn.init.xavier_uniform_(self.weights)\n",
    "\n",
    "    def forward(self, shift, features):    \n",
    "        batch_size = features.size(0)\n",
    "        tensor_list = []\n",
    "        for i in range(batch_size):\n",
    "            weighted = features[i].matmul(self.weights)\n",
    "            out = shift.matmul(weighted)\n",
    "            tensor_list.append(out)\n",
    "        return torch.stack(tensor_list, dim=0)\n",
    "\n",
    "\n",
    "class GCN(nn.Module):\n",
    "    def __init__(self, obs_size, pred_size, hid_sizes):\n",
    "        super(GCN, self).__init__()\n",
    "        self.layers = nn.ModuleList()\n",
    "        # input layer of size obs_size\n",
    "        self.layers.append(GCNLayer(obs_size, hid_sizes[0]))\n",
    "        # num_hid hidden layers of size hid_size\n",
    "        for i in range(len(hid_sizes)-1):\n",
    "            self.layers.append(GCNLayer(hid_sizes[i], hid_sizes[i+1]))\n",
    "        # fully connected layer to get  output of dim pred_size\n",
    "        self.layers.append(nn.Linear(hid_sizes[-1], pred_size))\n",
    "\n",
    "    def forward(self, shift, features):\n",
    "        temp = features\n",
    "        for layer in self.layers[:-1]:\n",
    "            # use relu activation function\n",
    "            temp = F.relu(layer(shift, temp))\n",
    "        return self.layers[-1](temp)\n",
    "    \n",
    "model = GCN(obs_window, forecast_window, [128,128])"
   ],
   "outputs": [],
   "execution_count": 65
  },
  {
   "cell_type": "code",
   "metadata": {
    "ExecuteTime": {
     "end_time": "2024-06-11T22:50:57.427372Z",
     "start_time": "2024-06-11T22:50:28.535286Z"
    }
   },
   "source": [
    "import time\n",
    "device = torch.device('cuda' if torch.cuda.is_available() else 'cpu')\n",
    "\n",
    "def train_epoch(model, loader, optimizer, device='cpu'):\n",
    "    model.to(device)\n",
    "    model.train()\n",
    "    total_loss = 0\n",
    "\n",
    "    for x,y in loader:\n",
    "        x,y = x.to(device), y.to(device)\n",
    "        optimizer.zero_grad()\n",
    "        outputs = model(S,x)\n",
    "        loss = torch.nn.functional.mse_loss(outputs, y)\n",
    "        loss.backward()\n",
    "        optimizer.step()\n",
    "        total_loss += loss.item()\n",
    "    return total_loss / len(loader)\n",
    "\n",
    "def evaluate_epoch(model, loader, device='cpu'):\n",
    "    model.eval()\n",
    "    total_loss = 0\n",
    "    for x,y in loader:\n",
    "        x,y = x.to(device), y.to(device)\n",
    "        outputs = model(S,x)\n",
    "        loss = torch.nn.functional.mse_loss(outputs, y)\n",
    "        total_loss += loss.item()\n",
    "    return total_loss / len(loader)\n",
    "\n",
    "\n",
    "def train_model(model, train_loader, val_loader, num_epochs = 10):\n",
    "    optimizer = torch.optim.Adam(model.parameters(), lr=0.1, weight_decay=5e-4)\n",
    "\n",
    "    start_time = time.time()\n",
    "    train_losses = []\n",
    "    val_losses = []\n",
    "\n",
    "    for epoch in range(1, num_epochs+1):\n",
    "        train_loss = train_epoch(model, train_loader, optimizer, device=device)\n",
    "        val_loss = evaluate_epoch(model, val_loader, device=device)\n",
    "        train_losses.append(train_loss)\n",
    "        val_losses.append(val_loss)\n",
    "\n",
    "        if epoch % 10 == 0:\n",
    "            print(\"epoch:\",epoch, \"\\t training loss:\", np.round(train_loss,4),\n",
    "                  \"\\t validation loss:\", np.round(val_loss,4))\n",
    "\n",
    "    elapsed_time = time.time() - start_time\n",
    "    print(f'Model training took {elapsed_time:.3f} seconds')\n",
    "\n",
    "    return train_losses, val_losses\n",
    "\n",
    "train_losses, val_losses = train_model(model, train_loader, val_loader)"
   ],
   "outputs": [
    {
     "name": "stderr",
     "output_type": "stream",
     "text": [
      "\n",
      "KeyboardInterrupt\n",
      "\n"
     ]
    }
   ],
   "execution_count": 66
  }
 ],
 "metadata": {
  "kernelspec": {
   "display_name": "GNN2",
   "language": "python",
   "name": "python3"
  },
  "language_info": {
   "codemirror_mode": {
    "name": "ipython",
    "version": 3
   },
   "file_extension": ".py",
   "mimetype": "text/x-python",
   "name": "python",
   "nbconvert_exporter": "python",
   "pygments_lexer": "ipython3",
   "version": "3.12.3"
  }
 },
 "nbformat": 4,
 "nbformat_minor": 2
}
