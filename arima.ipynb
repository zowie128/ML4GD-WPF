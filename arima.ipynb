{
 "cells": [
  {
   "cell_type": "code",
   "execution_count": 33,
   "metadata": {},
   "outputs": [],
   "source": [
    "import pandas as pd\n",
    "import numpy as np\n",
    "import matplotlib.pyplot as plt\n",
    "from statsmodels.tsa.arima.model import ARIMA\n",
    "import sys\n",
    "import csv\n",
    "from BDDData import *\n",
    "import torch\n",
    "import torch.utils.data as data\n",
    "import importlib\n",
    "import torch.nn.functional as F\n",
    "from joblib import Parallel, delayed\n",
    "from statsmodels.tsa.vector_ar.var_model import VAR"
   ]
  },
  {
   "cell_type": "code",
   "execution_count": 2,
   "metadata": {},
   "outputs": [],
   "source": [
    "importlib.reload(sys.modules['BDDData'])\n",
    "\n",
    "bdd_data = BDD_dataset(\"raw_data/\")\n",
    "bdd_data.add_timestep_id()\n",
    "bdd_data.tag_chaotic(replace=True)\n",
    "\n",
    "bdd_data.interpolate_power()\n",
    "bdd_data.cap_power_to_zero()\n",
    "bdd_data.normalize_power(min=0, max=1, method= \"MinMaxScaler\")\n",
    "train, val, test = bdd_data.split_df()"
   ]
  },
  {
   "cell_type": "code",
   "execution_count": 34,
   "metadata": {},
   "outputs": [],
   "source": [
    "class CustomBDD_Dataset(data.Dataset):\n",
    "    def __init__(self, dataset, observation_window=12, forecast_window=12, starting_turbine = 0,  ending_turbine=133):\n",
    "        self.observation_window = observation_window\n",
    "        self.forecast_window = forecast_window\n",
    "        length = eval(f'len({dataset}[0])')\n",
    "        bdd_data.get_observation_forecasting_window(time_series_len=length, observation_steps=self.observation_window, forecast_steps=self.forecast_window)#Generates obs window\n",
    "        self.window_of_interest =  bdd_data.sliding_indices[str(self.observation_window)+\",\"+str(self.forecast_window)]#Retrieves windows\n",
    "        self.starting_turbine = starting_turbine\n",
    "        self.ending_turbine = ending_turbine  \n",
    "        self.dataset = dataset\n",
    "\n",
    "    def __len__(self):\n",
    "        return len(self.window_of_interest)\n",
    "\n",
    "    def __getitem__(self, idx):\n",
    "        window = self.window_of_interest[idx]\n",
    "        if self.dataset == \"train\":\n",
    "            features = train[self.starting_turbine:self.ending_turbine+1,window[0]:window[1]]#.transpose()#.reshape(-1, 1)\n",
    "            labels = train[self.starting_turbine:self.ending_turbine+1,window[1]:window[2]]#.transpose()#.reshape(-1, 1)\n",
    "        elif self.dataset == \"val\":\n",
    "            features = val[self.starting_turbine:self.ending_turbine+1,window[0]:window[1]].transpose().reshape(-1, 1)\n",
    "            labels = val[self.starting_turbine:self.ending_turbine+1,window[1]:window[2]].transpose().reshape(-1, 1)\n",
    "        elif self.dataset == \"test\":\n",
    "            features = test[self.starting_turbine:self.ending_turbine+1,window[0]:window[1]].transpose().reshape(-1, 1)\n",
    "            labels = test[self.starting_turbine:self.ending_turbine+1,window[1]:window[2]].transpose().reshape(-1, 1)\n",
    "        else:\n",
    "            raise NotImplementedError\n",
    "        return torch.from_numpy(features).float(), torch.from_numpy(labels).float()\n",
    "    \n",
    "obs_window = 12\n",
    "forecast_window = 12\n",
    "batch_size = 1\n",
    "\n",
    "train_dataset = CustomBDD_Dataset(\"train\",observation_window=obs_window,forecast_window=forecast_window)\n",
    "train_loader = data.DataLoader(train_dataset, shuffle=True, batch_size = batch_size)\n",
    "# val_dataset = CustomBDD_Dataset(\"val\",observation_window=obs_window,forecast_window=forecast_window)\n",
    "# val_loader = data.DataLoader(val_dataset, shuffle=True, batch_size = batch_size)"
   ]
  },
  {
   "cell_type": "code",
   "execution_count": 93,
   "metadata": {},
   "outputs": [],
   "source": [
    "def fit_arima_and_forecast(series, order):\n",
    "    model = ARIMA(series, order=order)\n",
    "    model_fit = model.fit()\n",
    "    forecast = model_fit.forecast(steps=12)\n",
    "    \n",
    "    return forecast\n",
    "\n",
    "def var_forecast(train_data, steps):\n",
    "    model = VAR(train_data)\n",
    "    model_fit = model.fit()\n",
    "    forecast = model_fit.forecast(train_data[-model_fit.k_ar:], steps=steps)\n",
    "    return forecast\n",
    "\n",
    "def arima(order, limit):\n",
    "    total_loss = 0\n",
    "    counter = 0\n",
    "    n_jobs = -1\n",
    "\n",
    "    for x, y in train_loader:\n",
    "        counter += 1\n",
    "        # print(f\"{counter}/{len(train_loader)}\")\n",
    "        \n",
    "        # VAR\n",
    "        # train_data = x.numpy()[0].T\n",
    "        # results = var_forecast(train_data, steps=12)\n",
    "        # foresultsrecast = torch.from_numpy(results.T).float()\n",
    "        # results = results.unsqueeze(0)\n",
    "        \n",
    "        # ARIMA\n",
    "        results = Parallel(n_jobs=n_jobs)(delayed(fit_arima_and_forecast)(j.tolist(), order) for j in x[0])\n",
    "        results = np.array(results).reshape(1, 134, 12)\n",
    "        results = torch.from_numpy(results).float()\n",
    "\n",
    "        loss = F.mse_loss(results, y)\n",
    "        total_loss += loss.item()\n",
    "\n",
    "        if counter == limit:\n",
    "            break\n",
    "    print(total_loss / limit)"
   ]
  },
  {
   "cell_type": "code",
   "execution_count": 94,
   "metadata": {},
   "outputs": [
    {
     "name": "stdout",
     "output_type": "stream",
     "text": [
      "0.013861831766553223\n"
     ]
    }
   ],
   "source": [
    "arima((1, 0, 3), 10)"
   ]
  },
  {
   "cell_type": "code",
   "execution_count": null,
   "metadata": {},
   "outputs": [],
   "source": [
    "for p in range(4, 4):\n",
    "    for d in range(2):\n",
    "        for q in range(4):\n",
    "            try:\n",
    "                print(p, d, q)\n",
    "                arima((p, d, q), 10)\n",
    "            except Exception as e:\n",
    "                continue"
   ]
  }
 ],
 "metadata": {
  "kernelspec": {
   "display_name": ".venv",
   "language": "python",
   "name": "python3"
  },
  "language_info": {
   "codemirror_mode": {
    "name": "ipython",
    "version": 3
   },
   "file_extension": ".py",
   "mimetype": "text/x-python",
   "name": "python",
   "nbconvert_exporter": "python",
   "pygments_lexer": "ipython3",
   "version": "3.9.4"
  }
 },
 "nbformat": 4,
 "nbformat_minor": 2
}
