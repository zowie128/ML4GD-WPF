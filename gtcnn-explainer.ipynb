{
  "cells": [
    {
      "cell_type": "code",
      "execution_count": 2,
      "metadata": {
        "id": "PtbIM_0mAr0K"
      },
      "outputs": [],
      "source": [
        "\n",
        "from BDDData import *"
      ]
    },
    {
      "cell_type": "code",
      "execution_count": 3,
      "metadata": {
        "ExecuteTime": {
          "end_time": "2024-06-27T10:40:37.395975Z",
          "start_time": "2024-06-27T10:40:37.390655Z"
        },
        "id": "0qSrdDosRa2Q"
      },
      "outputs": [],
      "source": [
        "import importlib\n",
        "import sys\n",
        "import csv\n",
        "sys.path.append('..')\n",
        "import numpy as np\n",
        "import torch\n",
        "import torch.utils.data as data\n",
        "from torch_geometric.explain import Explainer, GNNExplainer\n",
        "import networkx as nx\n",
        "import matplotlib.pyplot as pltk\n",
        "from scipy.linalg import circulant\n",
        "from product_graph import *\n",
        "from utils import *"
      ]
    },
    {
      "cell_type": "code",
      "execution_count": 22,
      "metadata": {
        "colab": {
          "base_uri": "https://localhost:8080/"
        },
        "id": "GMq_UemTAvmH",
        "outputId": "26602743-11ac-4458-c53a-6186dfac8a63"
      },
      "outputs": [
        {
          "data": {
            "text/plain": [
              "<module 'BDDData' from '/Users/luca/Desktop/TUDelft/Y1/CS4350 ML For Graph Data/Project/ML4GD-WPF/BDDData.py'>"
            ]
          },
          "execution_count": 22,
          "metadata": {},
          "output_type": "execute_result"
        }
      ],
      "source": [
        "import BDDData\n",
        "importlib.reload(BDDData)"
      ]
    },
    {
      "cell_type": "code",
      "execution_count": 4,
      "metadata": {
        "ExecuteTime": {
          "end_time": "2024-06-27T10:40:37.564167Z",
          "start_time": "2024-06-27T10:40:37.560489Z"
        },
        "id": "0jVOxGX2Ra2V"
      },
      "outputs": [],
      "source": [
        "device = torch.device('cuda' if torch.cuda.is_available() else 'cpu')"
      ]
    },
    {
      "cell_type": "code",
      "execution_count": 5,
      "metadata": {
        "ExecuteTime": {
          "end_time": "2024-06-27T10:40:51.057982Z",
          "start_time": "2024-06-27T10:40:37.726894Z"
        },
        "colab": {
          "base_uri": "https://localhost:8080/"
        },
        "id": "SfR_i8QaRa2V",
        "outputId": "d07a73a1-e0bb-4a47-edb8-0d6077b90f7f"
      },
      "outputs": [
        {
          "name": "stdout",
          "output_type": "stream",
          "text": [
            "Initial data shape: (4727520, 15)\n",
            "Train shape: (134, 24624), Val shape: (134, 3600), Test shape: (134, 7056)\n"
          ]
        }
      ],
      "source": [
        "#Load dataframes\n",
        "bdd_data = BDD_dataset(\"raw_data/BDDdata/\")\n",
        "print(f\"Initial data shape: {bdd_data.historic_df.shape}\")\n",
        "\n",
        "#Add column with the timestep\n",
        "bdd_data.add_timestep_id()\n",
        "#Add flags for chaotic values\n",
        "bdd_data.tag_chaotic(replace=True)\n",
        "#Compute the mod for the nazelle and wind angles\n",
        "bdd_data.angle_mod()\n",
        "#Interpolate the missing values\n",
        "bdd_data.interpolate_power()\n",
        "#Values smaller than 0 are set to 0\n",
        "bdd_data.cap_power_to_zero()\n",
        "#Normalize Patv feature to [0,1]\n",
        "bdd_data.normalize_power(min=0, max=1, method= \"MinMaxScaler\")\n",
        "#Convert df to matrix form, where only Patv is included. Then split into train, validation and test\n",
        "#The matrix contains the subset of the time series for ALL nodes, so an (TxN matrix)\n",
        "train, val, test = bdd_data.split_df()\n",
        "print(f\"Train shape: {train.shape}, Val shape: {val.shape}, Test shape: {test.shape}\")\n"
      ]
    },
    {
      "cell_type": "code",
      "execution_count": 6,
      "metadata": {
        "ExecuteTime": {
          "end_time": "2024-06-27T10:40:51.074387Z",
          "start_time": "2024-06-27T10:40:51.059987Z"
        },
        "colab": {
          "base_uri": "https://localhost:8080/"
        },
        "id": "AyZTehV3Ra2W",
        "outputId": "7d023df0-7be0-4e6e-de40-41f4db0ab503"
      },
      "outputs": [
        {
          "name": "stdout",
          "output_type": "stream",
          "text": [
            "Masked Train shape: (134, 246), Masked Val shape: (134, 36), Masked Test shape: (134, 70)\n"
          ]
        }
      ],
      "source": [
        "# set seed\n",
        "np.random.seed(42)\n",
        "# consider a p percentage of the data\n",
        "p = 0.01\n",
        "train_mask = np.random.choice(train.shape[1], int(train.shape[1] * p), replace=False)\n",
        "val_mask = np.random.choice(val.shape[1], int(val.shape[1] * p), replace=False)\n",
        "test_mask = np.random.choice(test.shape[1], int(test.shape[1] * p), replace=False)\n",
        "\n",
        "train = train[:, train_mask]\n",
        "val = val[:, val_mask]\n",
        "test = test[:, test_mask]\n",
        "\n",
        "print(f\"Masked Train shape: {train.shape}, Masked Val shape: {val.shape}, Masked Test shape: {test.shape}\")\n"
      ]
    },
    {
      "cell_type": "code",
      "execution_count": 7,
      "metadata": {
        "ExecuteTime": {
          "end_time": "2024-06-27T10:40:51.089469Z",
          "start_time": "2024-06-27T10:40:51.075394Z"
        },
        "colab": {
          "base_uri": "https://localhost:8080/"
        },
        "id": "cx0qLCqpRa2X",
        "outputId": "782965aa-29dc-4bf3-bada-0ad87e3cf071"
      },
      "outputs": [
        {
          "name": "stdout",
          "output_type": "stream",
          "text": [
            "Train dataset length: 222\n",
            "Window of interest: [[0, 12, 24], [1, 13, 25], [2, 14, 26], [3, 15, 27], [4, 16, 28], [5, 17, 29], [6, 18, 30], [7, 19, 31], [8, 20, 32], [9, 21, 33], [10, 22, 34], [11, 23, 35], [12, 24, 36], [13, 25, 37], [14, 26, 38], [15, 27, 39], [16, 28, 40], [17, 29, 41], [18, 30, 42], [19, 31, 43], [20, 32, 44], [21, 33, 45], [22, 34, 46], [23, 35, 47], [24, 36, 48], [25, 37, 49], [26, 38, 50], [27, 39, 51], [28, 40, 52], [29, 41, 53], [30, 42, 54], [31, 43, 55], [32, 44, 56], [33, 45, 57], [34, 46, 58], [35, 47, 59], [36, 48, 60], [37, 49, 61], [38, 50, 62], [39, 51, 63], [40, 52, 64], [41, 53, 65], [42, 54, 66], [43, 55, 67], [44, 56, 68], [45, 57, 69], [46, 58, 70], [47, 59, 71], [48, 60, 72], [49, 61, 73], [50, 62, 74], [51, 63, 75], [52, 64, 76], [53, 65, 77], [54, 66, 78], [55, 67, 79], [56, 68, 80], [57, 69, 81], [58, 70, 82], [59, 71, 83], [60, 72, 84], [61, 73, 85], [62, 74, 86], [63, 75, 87], [64, 76, 88], [65, 77, 89], [66, 78, 90], [67, 79, 91], [68, 80, 92], [69, 81, 93], [70, 82, 94], [71, 83, 95], [72, 84, 96], [73, 85, 97], [74, 86, 98], [75, 87, 99], [76, 88, 100], [77, 89, 101], [78, 90, 102], [79, 91, 103], [80, 92, 104], [81, 93, 105], [82, 94, 106], [83, 95, 107], [84, 96, 108], [85, 97, 109], [86, 98, 110], [87, 99, 111], [88, 100, 112], [89, 101, 113], [90, 102, 114], [91, 103, 115], [92, 104, 116], [93, 105, 117], [94, 106, 118], [95, 107, 119], [96, 108, 120], [97, 109, 121], [98, 110, 122], [99, 111, 123], [100, 112, 124], [101, 113, 125], [102, 114, 126], [103, 115, 127], [104, 116, 128], [105, 117, 129], [106, 118, 130], [107, 119, 131], [108, 120, 132], [109, 121, 133], [110, 122, 134], [111, 123, 135], [112, 124, 136], [113, 125, 137], [114, 126, 138], [115, 127, 139], [116, 128, 140], [117, 129, 141], [118, 130, 142], [119, 131, 143], [120, 132, 144], [121, 133, 145], [122, 134, 146], [123, 135, 147], [124, 136, 148], [125, 137, 149], [126, 138, 150], [127, 139, 151], [128, 140, 152], [129, 141, 153], [130, 142, 154], [131, 143, 155], [132, 144, 156], [133, 145, 157], [134, 146, 158], [135, 147, 159], [136, 148, 160], [137, 149, 161], [138, 150, 162], [139, 151, 163], [140, 152, 164], [141, 153, 165], [142, 154, 166], [143, 155, 167], [144, 156, 168], [145, 157, 169], [146, 158, 170], [147, 159, 171], [148, 160, 172], [149, 161, 173], [150, 162, 174], [151, 163, 175], [152, 164, 176], [153, 165, 177], [154, 166, 178], [155, 167, 179], [156, 168, 180], [157, 169, 181], [158, 170, 182], [159, 171, 183], [160, 172, 184], [161, 173, 185], [162, 174, 186], [163, 175, 187], [164, 176, 188], [165, 177, 189], [166, 178, 190], [167, 179, 191], [168, 180, 192], [169, 181, 193], [170, 182, 194], [171, 183, 195], [172, 184, 196], [173, 185, 197], [174, 186, 198], [175, 187, 199], [176, 188, 200], [177, 189, 201], [178, 190, 202], [179, 191, 203], [180, 192, 204], [181, 193, 205], [182, 194, 206], [183, 195, 207], [184, 196, 208], [185, 197, 209], [186, 198, 210], [187, 199, 211], [188, 200, 212], [189, 201, 213], [190, 202, 214], [191, 203, 215], [192, 204, 216], [193, 205, 217], [194, 206, 218], [195, 207, 219], [196, 208, 220], [197, 209, 221], [198, 210, 222], [199, 211, 223], [200, 212, 224], [201, 213, 225], [202, 214, 226], [203, 215, 227], [204, 216, 228], [205, 217, 229], [206, 218, 230], [207, 219, 231], [208, 220, 232], [209, 221, 233], [210, 222, 234], [211, 223, 235], [212, 224, 236], [213, 225, 237], [214, 226, 238], [215, 227, 239], [216, 228, 240], [217, 229, 241], [218, 230, 242], [219, 231, 243], [220, 232, 244], [221, 233, 245]]\n"
          ]
        }
      ],
      "source": [
        "class CustomBDD_Dataset(data.Dataset):\n",
        "    def __init__(self, dataset, observation_window=12, forecast_window=12, starting_turbine = 0,  ending_turbine=133):\n",
        "        self.observation_window = observation_window\n",
        "        self.forecast_window = forecast_window\n",
        "        length = eval(f'len({dataset}[0])')#Retrieves length of dataset\n",
        "        bdd_data.get_observation_forecasting_window(time_series_len=length, observation_steps=self.observation_window, forecast_steps=self.forecast_window)#Generates obs window\n",
        "        self.window_of_interest =  bdd_data.sliding_indices[str(self.observation_window)+\",\"+str(self.forecast_window)]#Retrieves windows\n",
        "        self.starting_turbine = starting_turbine\n",
        "        self.ending_turbine = ending_turbine\n",
        "        self.dataset = dataset\n",
        "\n",
        "    def __len__(self):\n",
        "        return len(self.window_of_interest)\n",
        "\n",
        "    def __getitem__(self, idx):\n",
        "        window = self.window_of_interest[idx]\n",
        "        if self.dataset == \"train\":\n",
        "            features = train[self.starting_turbine:self.ending_turbine+1,window[0]:window[1]].transpose().reshape(-1, 1)\n",
        "            labels = train[self.starting_turbine:self.ending_turbine+1,window[1]:window[2]].transpose().reshape(-1, 1)\n",
        "        elif self.dataset == \"val\":\n",
        "            features = val[self.starting_turbine:self.ending_turbine+1,window[0]:window[1]].transpose().reshape(-1, 1)\n",
        "            labels = val[self.starting_turbine:self.ending_turbine+1,window[1]:window[2]].transpose().reshape(-1, 1)\n",
        "        elif self.dataset == \"test\":\n",
        "            features = test[self.starting_turbine:self.ending_turbine+1,window[0]:window[1]].transpose().reshape(-1, 1)\n",
        "            labels = test[self.starting_turbine:self.ending_turbine+1,window[1]:window[2]].transpose().reshape(-1, 1)\n",
        "        else:\n",
        "            raise NotImplementedError\n",
        "        return torch.from_numpy(features).float(), torch.from_numpy(labels).float()\n",
        "\n",
        "obs_window = 12\n",
        "forecast_window = 12\n",
        "batch_size = 100\n",
        "num_nodes = 134\n",
        "\n",
        "train_dataset = CustomBDD_Dataset(\"train\",observation_window=obs_window,forecast_window=forecast_window)\n",
        "train_loader = data.DataLoader(train_dataset, shuffle=True, batch_size = batch_size)\n",
        "val_dataset = CustomBDD_Dataset(\"val\",observation_window=obs_window,forecast_window=forecast_window)\n",
        "val_loader = data.DataLoader(val_dataset, shuffle=True, batch_size = batch_size)\n",
        "\n",
        "print(f\"Train dataset length: {len(train_dataset)}\")\n",
        "print(f\"Window of interest: {train_dataset.window_of_interest}\")\n"
      ]
    },
    {
      "cell_type": "code",
      "execution_count": 8,
      "metadata": {
        "ExecuteTime": {
          "end_time": "2024-06-27T10:40:51.101730Z",
          "start_time": "2024-06-27T10:40:51.091475Z"
        },
        "colab": {
          "base_uri": "https://localhost:8080/"
        },
        "id": "2kBT6PZhRa2X",
        "outputId": "695d86d0-5614-425b-d870-b3cda24f39a8"
      },
      "outputs": [
        {
          "name": "stdout",
          "output_type": "stream",
          "text": [
            "x.shape=torch.Size([100, 1608, 1])\n",
            "y.shape=torch.Size([100, 1608, 1])\n"
          ]
        }
      ],
      "source": [
        "x,y = next(iter(train_loader))\n",
        "print(f\"{x.shape=}\\n{y.shape=}\")"
      ]
    },
    {
      "cell_type": "code",
      "execution_count": 9,
      "metadata": {
        "ExecuteTime": {
          "end_time": "2024-06-27T10:40:51.182857Z",
          "start_time": "2024-06-27T10:40:51.102735Z"
        },
        "id": "Sj8g8GZBRa2Y"
      },
      "outputs": [],
      "source": [
        "G = nx.read_gml('data/spatial_graph_2000.gml')\n",
        "adj_mat = nx.adjacency_matrix(G)\n",
        "adj_mat = nx.to_numpy_array(G)"
      ]
    },
    {
      "cell_type": "code",
      "execution_count": 10,
      "metadata": {
        "ExecuteTime": {
          "end_time": "2024-06-27T10:40:51.188883Z",
          "start_time": "2024-06-27T10:40:51.183869Z"
        },
        "id": "f8exwATyRa2Z"
      },
      "outputs": [],
      "source": [
        "def build_time_graph(window: int, directed: bool, cyclic: bool):\n",
        "    \"\"\"\n",
        "    Circulant matrix as in https://arxiv.org/pdf/1712.00468.pdf (eq. 7)\n",
        "    \"\"\"\n",
        "    if window <= 1:\n",
        "        raise Exception(\"Ehm..\")\n",
        "    adjacency = circulant([0, 1] + [0 for _ in range(window-2)])\n",
        "    if not cyclic:\n",
        "        adjacency[0, window-1] = 0\n",
        "    if not directed:\n",
        "        adjacency += adjacency.transpose()\n",
        "\n",
        "    return adjacency"
      ]
    },
    {
      "cell_type": "code",
      "execution_count": 11,
      "metadata": {
        "ExecuteTime": {
          "end_time": "2024-06-27T10:40:51.302175Z",
          "start_time": "2024-06-27T10:40:51.189891Z"
        },
        "colab": {
          "base_uri": "https://localhost:8080/",
          "height": 720
        },
        "id": "jTfgy7ucRa2Z",
        "outputId": "6e8a2efc-fa77-4367-ec94-ed671d443f88"
      },
      "outputs": [
        {
          "name": "stdout",
          "output_type": "stream",
          "text": [
            "[[0 0 0 0 0 0 0 0 0 0 0 0]\n",
            " [1 0 0 0 0 0 0 0 0 0 0 0]\n",
            " [0 1 0 0 0 0 0 0 0 0 0 0]\n",
            " [0 0 1 0 0 0 0 0 0 0 0 0]\n",
            " [0 0 0 1 0 0 0 0 0 0 0 0]\n",
            " [0 0 0 0 1 0 0 0 0 0 0 0]\n",
            " [0 0 0 0 0 1 0 0 0 0 0 0]\n",
            " [0 0 0 0 0 0 1 0 0 0 0 0]\n",
            " [0 0 0 0 0 0 0 1 0 0 0 0]\n",
            " [0 0 0 0 0 0 0 0 1 0 0 0]\n",
            " [0 0 0 0 0 0 0 0 0 1 0 0]\n",
            " [0 0 0 0 0 0 0 0 0 0 1 0]]\n"
          ]
        },
        {
          "data": {
            "image/png": "[encoded data removed]",
            "text/plain": [
              "<Figure size 640x480 with 1 Axes>"
            ]
          },
          "metadata": {},
          "output_type": "display_data"
        }
      ],
      "source": [
        "timegraph = build_time_graph(obs_window,True,False)\n",
        "print(timegraph)\n",
        "tg = nx.from_numpy_array(timegraph)\n",
        "nx.draw(tg)"
      ]
    },
    {
      "cell_type": "code",
      "execution_count": 12,
      "metadata": {
        "ExecuteTime": {
          "end_time": "2024-06-27T10:40:51.310375Z",
          "start_time": "2024-06-27T10:40:51.303182Z"
        },
        "id": "ga40ydflRa2a"
      },
      "outputs": [],
      "source": [
        "# Normalize the adjacency matrix\n",
        "S = normalize_adjacency(torch.tensor(adj_mat))\n",
        "S_t = torch.tensor(timegraph)"
      ]
    },
    {
      "cell_type": "code",
      "execution_count": 13,
      "metadata": {
        "ExecuteTime": {
          "end_time": "2024-06-27T10:40:51.317479Z",
          "start_time": "2024-06-27T10:40:51.311383Z"
        },
        "colab": {
          "base_uri": "https://localhost:8080/"
        },
        "id": "IIgGnC5ARa2a",
        "outputId": "9a173397-84f6-447c-b08e-8e7fc1b608ba"
      },
      "outputs": [
        {
          "name": "stdout",
          "output_type": "stream",
          "text": [
            "(134, 134)\n"
          ]
        }
      ],
      "source": [
        "print(adj_mat.shape)"
      ]
    },
    {
      "cell_type": "code",
      "execution_count": 14,
      "metadata": {
        "ExecuteTime": {
          "end_time": "2024-06-27T10:40:51.403862Z",
          "start_time": "2024-06-27T10:40:51.321495Z"
        },
        "id": "cOxe3DYRRa2b"
      },
      "outputs": [
        {
          "name": "stdout",
          "output_type": "stream",
          "text": [
            "tensor([[0.0400, 0.0400, 0.0417,  ..., 0.0000, 0.0000, 0.0000],\n",
            "        [0.0400, 0.0400, 0.0417,  ..., 0.0000, 0.0000, 0.0000],\n",
            "        [0.0417, 0.0417, 0.0435,  ..., 0.0000, 0.0000, 0.0000],\n",
            "        ...,\n",
            "        [0.0000, 0.0000, 0.0000,  ..., 0.0526, 0.0513, 0.0541],\n",
            "        [0.0000, 0.0000, 0.0000,  ..., 0.0513, 0.0500, 0.0527],\n",
            "        [0.0000, 0.0000, 0.0000,  ..., 0.0541, 0.0527, 0.0556]],\n",
            "       dtype=torch.float64)\n"
          ]
        }
      ],
      "source": [
        "pg = build_parametric_product_graph(S_t, S, 0, 1, 1, 1).to(device)\n",
        "# pg = np.load('pg.npy')\n",
        "# pg = torch.from_numpy(pg)\n",
        "print(pg)"
      ]
    },
    {
      "cell_type": "code",
      "execution_count": 15,
      "metadata": {
        "ExecuteTime": {
          "end_time": "2024-06-27T11:05:17.266021Z",
          "start_time": "2024-06-27T11:05:17.259893Z"
        },
        "colab": {
          "base_uri": "https://localhost:8080/"
        },
        "id": "SdgLA14PRa2b",
        "outputId": "c27f2873-734c-4d3a-a69c-847dc8a95887"
      },
      "outputs": [
        {
          "name": "stdout",
          "output_type": "stream",
          "text": [
            "torch.Size([1608, 1608])\n"
          ]
        }
      ],
      "source": [
        "print(pg.shape)"
      ]
    },
    {
      "cell_type": "code",
      "execution_count": 59,
      "metadata": {
        "ExecuteTime": {
          "end_time": "2024-06-27T10:40:51.441016Z",
          "start_time": "2024-06-27T10:40:51.405868Z"
        },
        "id": "SwIUiEcwRa2b"
      },
      "outputs": [],
      "source": [
        "## OLD DONT RUN\n",
        "import torch\n",
        "import torch.nn as nn\n",
        "import torch.nn.functional as F\n",
        "\n",
        "class GCNNLayer(nn.Module):\n",
        "    def __init__(self, in_features, out_features, matrix_powers, order):\n",
        "        super(GCNNLayer, self).__init__()\n",
        "        self.matrix_powers = matrix_powers\n",
        "        self.order = order\n",
        "        self.weights = nn.Parameter(torch.FloatTensor(in_features, out_features, order))\n",
        "        # use Xavier initialization to match variance of input with output\n",
        "        nn.init.xavier_uniform_(self.weights)\n",
        "\n",
        "    def forward(self, features, edge_index=None, index=None):\n",
        "        batch_size = features.size(0)\n",
        "        output_dim = self.weights.size(1)\n",
        "        device = features.device\n",
        "\n",
        "        out = torch.zeros((batch_size, features.size(1), output_dim), device=device)\n",
        "        for k in range(self.order):\n",
        "            weighted = torch.bmm(features, self.weights[:, :, k].unsqueeze(0).repeat(batch_size, 1, 1))\n",
        "            shifted = torch.bmm(self.matrix_powers[k].unsqueeze(0).repeat(batch_size, 1, 1).to(device), weighted)\n",
        "            out += shifted\n",
        "        return out\n",
        "\n",
        "\n",
        "# Inputs must be sized [num_nodes, obs_size] and outputs will be [num_nodes, pred_size]\n",
        "class GCNN(nn.Module):\n",
        "    def __init__(self, hid_sizes, shift, order):\n",
        "        super(GCNN, self).__init__()\n",
        "        self.layers = nn.ModuleList()\n",
        "        # compute matrix shift\n",
        "        matrix_powers = [torch.matrix_power(shift, k).float() for k in range(order)]\n",
        "        # input layer of size obs_size\n",
        "        self.layers.append(GCNNLayer(1, hid_sizes[0], matrix_powers, order))\n",
        "        # num_hid hidden layers of size hid_size\n",
        "        for i in range(len(hid_sizes) - 1):\n",
        "            self.layers.append(GCNNLayer(hid_sizes[i], hid_sizes[i + 1], matrix_powers, order))\n",
        "\n",
        "    def forward(self, features, edge_index=None, index=None):\n",
        "        temp = features\n",
        "        for layer in self.layers[:-1]:\n",
        "            # use relu activation function\n",
        "            temp = F.relu(layer(temp))\n",
        "        return self.layers[-1](temp)\n",
        "\n",
        "model = GCNN([128,128, 1],pg,1).to(device)"
      ]
    },
    {
      "cell_type": "code",
      "execution_count": 60,
      "metadata": {
        "ExecuteTime": {
          "end_time": "2024-06-27T10:43:42.105778Z",
          "start_time": "2024-06-27T10:43:37.660533Z"
        },
        "colab": {
          "base_uri": "https://localhost:8080/",
          "height": 374
        },
        "id": "I5Q6WACxRa2c",
        "outputId": "d2f8d74d-436d-4bf6-b7c2-2efea6c7462a"
      },
      "outputs": [
        {
          "name": "stdout",
          "output_type": "stream",
          "text": [
            "torch.Size([100, 1608, 1])\n",
            "torch.Size([100, 1608, 1])\n"
          ]
        },
        {
          "ename": "KeyboardInterrupt",
          "evalue": "",
          "output_type": "error",
          "traceback": [
            "\u001b[0;31m---------------------------------------------------------------------------\u001b[0m",
            "\u001b[0;31mKeyboardInterrupt\u001b[0m                         Traceback (most recent call last)",
            "Cell \u001b[0;32mIn[60], line 55\u001b[0m\n\u001b[1;32m     50\u001b[0m     \u001b[38;5;28mprint\u001b[39m(\u001b[38;5;124mf\u001b[39m\u001b[38;5;124m'\u001b[39m\u001b[38;5;124mModel training took \u001b[39m\u001b[38;5;132;01m{\u001b[39;00melapsed_time\u001b[38;5;132;01m:\u001b[39;00m\u001b[38;5;124m.3f\u001b[39m\u001b[38;5;132;01m}\u001b[39;00m\u001b[38;5;124m seconds\u001b[39m\u001b[38;5;124m'\u001b[39m)\n\u001b[1;32m     52\u001b[0m     \u001b[38;5;28;01mreturn\u001b[39;00m train_losses, val_losses\n\u001b[0;32m---> 55\u001b[0m train_losses, val_losses \u001b[38;5;241m=\u001b[39m train_model(model, train_loader, val_loader)\n",
            "Cell \u001b[0;32mIn[60], line 39\u001b[0m, in \u001b[0;36mtrain_model\u001b[0;34m(model, train_loader, val_loader, num_epochs)\u001b[0m\n\u001b[1;32m     36\u001b[0m val_losses \u001b[38;5;241m=\u001b[39m []\n\u001b[1;32m     38\u001b[0m \u001b[38;5;28;01mfor\u001b[39;00m epoch \u001b[38;5;129;01min\u001b[39;00m \u001b[38;5;28mrange\u001b[39m(\u001b[38;5;241m1\u001b[39m, num_epochs \u001b[38;5;241m+\u001b[39m \u001b[38;5;241m1\u001b[39m):\n\u001b[0;32m---> 39\u001b[0m     train_loss \u001b[38;5;241m=\u001b[39m train_epoch(model, train_loader, optimizer, device\u001b[38;5;241m=\u001b[39mdevice)\n\u001b[1;32m     40\u001b[0m     val_loss \u001b[38;5;241m=\u001b[39m evaluate_epoch(model, val_loader, device\u001b[38;5;241m=\u001b[39mdevice)\n\u001b[1;32m     41\u001b[0m     train_losses\u001b[38;5;241m.\u001b[39mappend(train_loss)\n",
            "Cell \u001b[0;32mIn[60], line 13\u001b[0m, in \u001b[0;36mtrain_epoch\u001b[0;34m(model, loader, optimizer, device)\u001b[0m\n\u001b[1;32m     11\u001b[0m outputs \u001b[38;5;241m=\u001b[39m model(x)\n\u001b[1;32m     12\u001b[0m loss \u001b[38;5;241m=\u001b[39m torch\u001b[38;5;241m.\u001b[39mnn\u001b[38;5;241m.\u001b[39mfunctional\u001b[38;5;241m.\u001b[39mmse_loss(outputs, y)\n\u001b[0;32m---> 13\u001b[0m loss\u001b[38;5;241m.\u001b[39mbackward()\n\u001b[1;32m     14\u001b[0m optimizer\u001b[38;5;241m.\u001b[39mstep()\n\u001b[1;32m     15\u001b[0m total_loss \u001b[38;5;241m+\u001b[39m\u001b[38;5;241m=\u001b[39m loss\u001b[38;5;241m.\u001b[39mitem()\n",
            "File \u001b[0;32m/opt/anaconda3/lib/python3.11/site-packages/torch/_tensor.py:522\u001b[0m, in \u001b[0;36mTensor.backward\u001b[0;34m(self, gradient, retain_graph, create_graph, inputs)\u001b[0m\n\u001b[1;32m    512\u001b[0m \u001b[38;5;28;01mif\u001b[39;00m has_torch_function_unary(\u001b[38;5;28mself\u001b[39m):\n\u001b[1;32m    513\u001b[0m     \u001b[38;5;28;01mreturn\u001b[39;00m handle_torch_function(\n\u001b[1;32m    514\u001b[0m         Tensor\u001b[38;5;241m.\u001b[39mbackward,\n\u001b[1;32m    515\u001b[0m         (\u001b[38;5;28mself\u001b[39m,),\n\u001b[0;32m   (...)\u001b[0m\n\u001b[1;32m    520\u001b[0m         inputs\u001b[38;5;241m=\u001b[39minputs,\n\u001b[1;32m    521\u001b[0m     )\n\u001b[0;32m--> 522\u001b[0m torch\u001b[38;5;241m.\u001b[39mautograd\u001b[38;5;241m.\u001b[39mbackward(\n\u001b[1;32m    523\u001b[0m     \u001b[38;5;28mself\u001b[39m, gradient, retain_graph, create_graph, inputs\u001b[38;5;241m=\u001b[39minputs\n\u001b[1;32m    524\u001b[0m )\n",
            "File \u001b[0;32m/opt/anaconda3/lib/python3.11/site-packages/torch/autograd/__init__.py:266\u001b[0m, in \u001b[0;36mbackward\u001b[0;34m(tensors, grad_tensors, retain_graph, create_graph, grad_variables, inputs)\u001b[0m\n\u001b[1;32m    261\u001b[0m     retain_graph \u001b[38;5;241m=\u001b[39m create_graph\n\u001b[1;32m    263\u001b[0m \u001b[38;5;66;03m# The reason we repeat the same comment below is that\u001b[39;00m\n\u001b[1;32m    264\u001b[0m \u001b[38;5;66;03m# some Python versions print out the first line of a multi-line function\u001b[39;00m\n\u001b[1;32m    265\u001b[0m \u001b[38;5;66;03m# calls in the traceback and some print out the last line\u001b[39;00m\n\u001b[0;32m--> 266\u001b[0m Variable\u001b[38;5;241m.\u001b[39m_execution_engine\u001b[38;5;241m.\u001b[39mrun_backward(  \u001b[38;5;66;03m# Calls into the C++ engine to run the backward pass\u001b[39;00m\n\u001b[1;32m    267\u001b[0m     tensors,\n\u001b[1;32m    268\u001b[0m     grad_tensors_,\n\u001b[1;32m    269\u001b[0m     retain_graph,\n\u001b[1;32m    270\u001b[0m     create_graph,\n\u001b[1;32m    271\u001b[0m     inputs,\n\u001b[1;32m    272\u001b[0m     allow_unreachable\u001b[38;5;241m=\u001b[39m\u001b[38;5;28;01mTrue\u001b[39;00m,\n\u001b[1;32m    273\u001b[0m     accumulate_grad\u001b[38;5;241m=\u001b[39m\u001b[38;5;28;01mTrue\u001b[39;00m,\n\u001b[1;32m    274\u001b[0m )\n",
            "\u001b[0;31mKeyboardInterrupt\u001b[0m: "
          ]
        }
      ],
      "source": [
        "\n",
        "import time\n",
        "\n",
        "def train_epoch(model, loader, optimizer, device='cpu'):\n",
        "    model.train()\n",
        "    total_loss = 0\n",
        "\n",
        "    for x, y in loader:\n",
        "        x, y = x.to(device), y.to(device)\n",
        "        optimizer.zero_grad()\n",
        "        print(x.shape)\n",
        "        outputs = model(x)\n",
        "        loss = torch.nn.functional.mse_loss(outputs, y)\n",
        "        loss.backward()\n",
        "        optimizer.step()\n",
        "        total_loss += loss.item()\n",
        "    return total_loss / len(loader)\n",
        "\n",
        "def evaluate_epoch(model, loader, device='cpu'):\n",
        "    model.eval()\n",
        "    total_loss = 0\n",
        "    with torch.no_grad():\n",
        "        for x, y in loader:\n",
        "            x, y = x.to(device), y.to(device)\n",
        "            print(x.shape)\n",
        "            outputs = model(x)\n",
        "            loss = torch.nn.functional.mse_loss(outputs, y)\n",
        "            total_loss += loss.item()\n",
        "    return total_loss / len(loader)\n",
        "\n",
        "\n",
        "def train_model(model, train_loader, val_loader, num_epochs=10):\n",
        "    optimizer = torch.optim.Adam(model.parameters(), lr=0.1, weight_decay=5e-4)\n",
        "\n",
        "    start_time = time.time()\n",
        "    train_losses = []\n",
        "    val_losses = []\n",
        "\n",
        "    for epoch in range(1, num_epochs + 1):\n",
        "        train_loss = train_epoch(model, train_loader, optimizer, device=device)\n",
        "        val_loss = evaluate_epoch(model, val_loader, device=device)\n",
        "        train_losses.append(train_loss)\n",
        "        val_losses.append(val_loss)\n",
        "\n",
        "        if epoch % 1 == 0:\n",
        "            print(f\"epoch: {epoch}\\ttraining loss: {train_loss:.4f}\\tvalidation loss: {val_loss:.4f}\")\n",
        "\n",
        "    elapsed_time = time.time() - start_time\n",
        "    if device.type == 'cuda':\n",
        "        torch.cuda.synchronize()\n",
        "    print(f'Model training took {elapsed_time:.3f} seconds')\n",
        "\n",
        "    return train_losses, val_losses\n",
        "\n",
        "\n",
        "train_losses, val_losses = train_model(model, train_loader, val_loader)"
      ]
    },
    {
      "cell_type": "code",
      "execution_count": null,
      "metadata": {
        "id": "lZnPWsLvRa2d"
      },
      "outputs": [],
      "source": [
        "torch.save(model, 'model.pth')"
      ]
    },
    {
      "cell_type": "code",
      "execution_count": 16,
      "metadata": {
        "colab": {
          "base_uri": "https://localhost:8080/"
        },
        "id": "OBgx1nzLIRoO",
        "outputId": "5a551f4c-5e0d-4ecb-9360-f61c1df703d0"
      },
      "outputs": [
        {
          "name": "stdout",
          "output_type": "stream",
          "text": [
            "(134, 246)\n",
            "(134, 246, 1)\n"
          ]
        }
      ],
      "source": [
        "print(train.shape)\n",
        "train_reshaped = train.reshape((train.shape[0], train.shape[1], 1))\n",
        "print(train_reshaped.shape)"
      ]
    },
    {
      "cell_type": "code",
      "execution_count": null,
      "metadata": {
        "colab": {
          "base_uri": "https://localhost:8080/",
          "height": 384
        },
        "id": "xh1VJ0Q7H0an",
        "outputId": "26e645ee-605d-4e65-fa34-7dc9cc3601d3"
      },
      "outputs": [],
      "source": [
        "## OLD DONT RUN\n",
        "from torch_geometric.utils import from_networkx\n",
        "\n",
        "explainer = Explainer(\n",
        "    model=model,\n",
        "    algorithm=GNNExplainer(epochs=100),\n",
        "    explanation_type='model',\n",
        "    node_mask_type='object',\n",
        "    model_config=dict(\n",
        "        mode='regression',\n",
        "        task_level='node',\n",
        "        return_type='raw',\n",
        "    ),\n",
        ")\n",
        "\n",
        "data = from_networkx(G)\n",
        "edge_index = data.edge_index\n",
        "# edge_index_list = edge_index.tolist()\n",
        "# edge_index_tensor = torch.tensor(edge_index_list, dtype=torch.long)\n",
        "\n",
        "print(f\"Edge Index Shape: {edge_index.shape}\")\n",
        "\n",
        "node_idx = 3\n",
        "\n",
        "for x, y in train_loader:\n",
        "  x, y = x.to(device), y.to(device)\n",
        "  print(x.shape)\n",
        "  explanation = explainer(x=x, edge_index=edge_index, index=node_idx)\n",
        "  break\n",
        "\n",
        "#explanation = explainer(x=torch.tensor(train_reshaped, dtype=torch.float), edge_index=edge_index_list, index=node_idx)"
      ]
    },
    {
      "cell_type": "code",
      "execution_count": 93,
      "metadata": {},
      "outputs": [],
      "source": [
        "#RUN THIS \n",
        "\n",
        "import torch\n",
        "import torch.nn as nn\n",
        "import torch.nn.functional as F\n",
        "\n",
        "class GCNNLayer(nn.Module):\n",
        "    def __init__(self, in_features, out_features, matrix_powers, order):\n",
        "        super(GCNNLayer, self).__init__()\n",
        "        self.matrix_powers = matrix_powers\n",
        "        self.order = order\n",
        "        self.weights = nn.Parameter(torch.FloatTensor(in_features, out_features, 1))\n",
        "        # use Xavier initialization to match variance of input with output\n",
        "        nn.init.xavier_uniform_(self.weights)\n",
        "\n",
        "    def batch_forward(self, features):\n",
        "        batch_size = features.size(0)\n",
        "        output_dim = self.weights.size(1)\n",
        "        device = features.device\n",
        "        \n",
        "        #cute might delete later\n",
        "        if features.dim() == 2:  # Add singleton dimension if features is 2D\n",
        "            features = features.unsqueeze(-1)\n",
        "\n",
        "        # print(f\"features shape: {features.shape}\")\n",
        "        # print(f\"weights shape: {self.weights.shape}\")\n",
        "\n",
        "        out = torch.zeros((batch_size, features.size(1), output_dim), device=device)\n",
        "        for k in range(self.order):\n",
        "            weighted = torch.bmm(features, self.weights[:, :, k].unsqueeze(0).repeat(batch_size, 1, 1))\n",
        "            shifted = torch.bmm(self.matrix_powers[k].unsqueeze(0).repeat(batch_size, 1, 1).to(device), weighted)\n",
        "            out += shifted\n",
        "        return out\n",
        "    \n",
        "    def forward(self, features, edge_index=None, index=None, **kwargs):\n",
        "            #print(f\"==================={kwargs}\")\n",
        "            print(\"Edge index: \", edge_index)\n",
        "            expl = kwargs.get('expl', None)\n",
        "            if expl != True:\n",
        "                #print(\"==========BATCH FORWARD=========\")\n",
        "                return self.batch_forward(features) #if we do normal training\n",
        "            else: #if we got some explaining to do\n",
        "                output_dim = self.weights.size(1)\n",
        "\n",
        "                tensor_list = []\n",
        "                if features.ndim==3:\n",
        "                    features = features.squeeze(0)\n",
        "                #print(\"FEATURES SHAPE:\", features.shape)\n",
        "\n",
        "                #print(f\" features(0): {features.size(0)}, output_dim:{output_dim}\")\n",
        "                out = torch.zeros((features.size(0), output_dim), device=features.device)\n",
        "                for k in range(self.order):\n",
        "                    weighted_features = torch.matmul(features, self.weights[:, :, k])\n",
        "                    # shift_k = self.matrix_powers[k]\n",
        "                    shift_k = torch.tensor(edge_index, dtype=torch.float)\n",
        "                    shifted_features = torch.matmul(shift_k, weighted_features)\n",
        "                    #print(f\"shifted features:{k}, {shifted_features.shape}\")\n",
        "                    out += shifted_features\n",
        "                    \n",
        "                tensor_list.append(out)\n",
        "                return torch.stack(tensor_list, dim=0)\n",
        "\n",
        "# Inputs must be sized [num_nodes, obs_size] and outputs will be [num_nodes, pred_size]\n",
        "class GCNN(nn.Module):\n",
        "    def __init__(self, hid_sizes, shift, order=1):\n",
        "        super(GCNN, self).__init__()\n",
        "        self.order = order  # Set the order as an attribute of the class\n",
        "        self.layers = nn.ModuleList()\n",
        "        # compute matrix shift\n",
        "        matrix_powers = [torch.matrix_power(shift, k).float() for k in range(order)]\n",
        "        # input layer of size obs_size\n",
        "        self.layers.append(GCNNLayer(1, hid_sizes[0], matrix_powers, 1))\n",
        "        # num_hid hidden layers of size hid_size\n",
        "        for i in range(len(hid_sizes) - 1):\n",
        "            self.layers.append(GCNNLayer(hid_sizes[i], hid_sizes[i + 1], matrix_powers, 1))\n",
        "\n",
        "    def forward(self, features, edge_index=None, index=None, **kwargs):\n",
        "        expl = kwargs.get('expl', None)\n",
        "        #print(\"expl\", expl) \n",
        "        temp = features\n",
        "        for layer in self.layers[:-1]:\n",
        "            #print(\"huh?\")\n",
        "            # use relu activation function\n",
        "            temp = F.relu(layer(temp, edge_index=edge_index, **kwargs))\n",
        "        if expl == True:\n",
        "            temp = self.layers[-1](temp, edge_index=edge_index, **kwargs)\n",
        "            return temp.squeeze(0)\n",
        "        return self.layers[-1](temp, edge_index=edge_index, **kwargs)\n",
        "        \n",
        "model = GCNN([128,128, 1],pg,1).to(device)\n"
      ]
    },
    {
      "cell_type": "code",
      "execution_count": 42,
      "metadata": {},
      "outputs": [
        {
          "name": "stdout",
          "output_type": "stream",
          "text": [
            "torch.Size([100, 1608, 1])\n",
            "torch.Size([100, 1608, 1])\n",
            "torch.Size([22, 1608, 1])\n",
            "model output: torch.Size([12, 1608, 1])\n",
            "epoch: 1\ttraining loss: 1.8007\tvalidation loss: 0.0731\n",
            "torch.Size([100, 1608, 1])\n",
            "torch.Size([100, 1608, 1])\n",
            "torch.Size([22, 1608, 1])\n",
            "model output: torch.Size([12, 1608, 1])\n",
            "epoch: 2\ttraining loss: 0.1541\tvalidation loss: 0.0704\n",
            "torch.Size([100, 1608, 1])\n",
            "torch.Size([100, 1608, 1])\n",
            "torch.Size([22, 1608, 1])\n",
            "model output: torch.Size([12, 1608, 1])\n",
            "epoch: 3\ttraining loss: 0.1188\tvalidation loss: 0.0853\n",
            "torch.Size([100, 1608, 1])\n",
            "torch.Size([100, 1608, 1])\n",
            "torch.Size([22, 1608, 1])\n",
            "model output: torch.Size([12, 1608, 1])\n",
            "epoch: 4\ttraining loss: 0.1106\tvalidation loss: 0.0675\n",
            "torch.Size([100, 1608, 1])\n",
            "torch.Size([100, 1608, 1])\n",
            "torch.Size([22, 1608, 1])\n",
            "model output: torch.Size([12, 1608, 1])\n",
            "epoch: 5\ttraining loss: 0.1076\tvalidation loss: 0.0659\n",
            "torch.Size([100, 1608, 1])\n",
            "torch.Size([100, 1608, 1])\n",
            "torch.Size([22, 1608, 1])\n",
            "model output: torch.Size([12, 1608, 1])\n",
            "epoch: 6\ttraining loss: 0.1070\tvalidation loss: 0.0651\n",
            "torch.Size([100, 1608, 1])\n",
            "torch.Size([100, 1608, 1])\n",
            "torch.Size([22, 1608, 1])\n",
            "model output: torch.Size([12, 1608, 1])\n",
            "epoch: 7\ttraining loss: 0.1049\tvalidation loss: 0.0640\n",
            "torch.Size([100, 1608, 1])\n",
            "torch.Size([100, 1608, 1])\n",
            "torch.Size([22, 1608, 1])\n",
            "model output: torch.Size([12, 1608, 1])\n",
            "epoch: 8\ttraining loss: 0.1067\tvalidation loss: 0.0661\n",
            "torch.Size([100, 1608, 1])\n",
            "torch.Size([100, 1608, 1])\n",
            "torch.Size([22, 1608, 1])\n",
            "model output: torch.Size([12, 1608, 1])\n",
            "epoch: 9\ttraining loss: 0.1010\tvalidation loss: 0.0681\n",
            "torch.Size([100, 1608, 1])\n",
            "torch.Size([100, 1608, 1])\n",
            "torch.Size([22, 1608, 1])\n",
            "model output: torch.Size([12, 1608, 1])\n",
            "epoch: 10\ttraining loss: 0.1046\tvalidation loss: 0.0666\n",
            "Model training took 57.911 seconds\n"
          ]
        }
      ],
      "source": [
        "\n",
        "import time\n",
        "\n",
        "def train_epoch(model, loader, optimizer, device='cpu'):\n",
        "    model.train()\n",
        "    total_loss = 0\n",
        "\n",
        "    for x, y in loader:\n",
        "        x, y = x.to(device), y.to(device)\n",
        "        optimizer.zero_grad()\n",
        "        print(x.shape)\n",
        "        outputs = model(x)\n",
        "        loss = torch.nn.functional.mse_loss(outputs, y)\n",
        "        loss.backward()\n",
        "        optimizer.step()\n",
        "        total_loss += loss.item()\n",
        "    return total_loss / len(loader)\n",
        "\n",
        "def evaluate_epoch(model, loader, device='cpu'):\n",
        "    model.eval()\n",
        "    total_loss = 0\n",
        "    with torch.no_grad():\n",
        "        for x, y in loader:\n",
        "            x, y = x.to(device), y.to(device)\n",
        "            #print(x.shape)\n",
        "            outputs = model(x)\n",
        "            print(f\"model output: {outputs.shape}\")\n",
        "            loss = torch.nn.functional.mse_loss(outputs, y)\n",
        "            total_loss += loss.item()\n",
        "    return total_loss / len(loader)\n",
        "\n",
        "\n",
        "def train_model(model, train_loader, val_loader, num_epochs=10):\n",
        "    optimizer = torch.optim.Adam(model.parameters(), lr=0.1, weight_decay=5e-4)\n",
        "\n",
        "    start_time = time.time()\n",
        "    train_losses = []\n",
        "    val_losses = []\n",
        "\n",
        "    for epoch in range(1, num_epochs + 1):\n",
        "        train_loss = train_epoch(model, train_loader, optimizer, device=device)\n",
        "        val_loss = evaluate_epoch(model, val_loader, device=device)\n",
        "        train_losses.append(train_loss)\n",
        "        val_losses.append(val_loss)\n",
        "\n",
        "        if epoch % 1 == 0:\n",
        "            print(f\"epoch: {epoch}\\ttraining loss: {train_loss:.4f}\\tvalidation loss: {val_loss:.4f}\")\n",
        "\n",
        "    elapsed_time = time.time() - start_time\n",
        "    if device.type == 'cuda':\n",
        "        torch.cuda.synchronize()\n",
        "    print(f'Model training took {elapsed_time:.3f} seconds')\n",
        "\n",
        "    return train_losses, val_losses\n",
        "\n",
        "train_losses, val_losses = train_model(model, train_loader, val_loader)"
      ]
    },
    {
      "cell_type": "code",
      "execution_count": 97,
      "metadata": {},
      "outputs": [
        {
          "name": "stdout",
          "output_type": "stream",
          "text": [
            "Edge Index:\n",
            "torch.Size([2, 59754])\n",
            "Single shape x: torch.Size([1608, 1])\n",
            "Edge index:  tensor([[0.0400, 0.0400, 0.0417,  ..., 0.0000, 0.0000, 0.0000],\n",
            "        [0.0400, 0.0400, 0.0417,  ..., 0.0000, 0.0000, 0.0000],\n",
            "        [0.0417, 0.0417, 0.0435,  ..., 0.0000, 0.0000, 0.0000],\n",
            "        ...,\n",
            "        [0.0000, 0.0000, 0.0000,  ..., 0.0526, 0.0513, 0.0541],\n",
            "        [0.0000, 0.0000, 0.0000,  ..., 0.0513, 0.0500, 0.0527],\n",
            "        [0.0000, 0.0000, 0.0000,  ..., 0.0541, 0.0527, 0.0556]],\n",
            "       dtype=torch.float64)\n",
            "Edge index:  tensor([[0.0400, 0.0400, 0.0417,  ..., 0.0000, 0.0000, 0.0000],\n",
            "        [0.0400, 0.0400, 0.0417,  ..., 0.0000, 0.0000, 0.0000],\n",
            "        [0.0417, 0.0417, 0.0435,  ..., 0.0000, 0.0000, 0.0000],\n",
            "        ...,\n",
            "        [0.0000, 0.0000, 0.0000,  ..., 0.0526, 0.0513, 0.0541],\n",
            "        [0.0000, 0.0000, 0.0000,  ..., 0.0513, 0.0500, 0.0527],\n",
            "        [0.0000, 0.0000, 0.0000,  ..., 0.0541, 0.0527, 0.0556]],\n",
            "       dtype=torch.float64)\n",
            "Edge index:  tensor([[0.0400, 0.0400, 0.0417,  ..., 0.0000, 0.0000, 0.0000],\n",
            "        [0.0400, 0.0400, 0.0417,  ..., 0.0000, 0.0000, 0.0000],\n",
            "        [0.0417, 0.0417, 0.0435,  ..., 0.0000, 0.0000, 0.0000],\n",
            "        ...,\n",
            "        [0.0000, 0.0000, 0.0000,  ..., 0.0526, 0.0513, 0.0541],\n",
            "        [0.0000, 0.0000, 0.0000,  ..., 0.0513, 0.0500, 0.0527],\n",
            "        [0.0000, 0.0000, 0.0000,  ..., 0.0541, 0.0527, 0.0556]],\n",
            "       dtype=torch.float64)\n",
            "Edge index:  tensor([[0.0400, 0.0400, 0.0417,  ..., 0.0000, 0.0000, 0.0000],\n",
            "        [0.0400, 0.0400, 0.0417,  ..., 0.0000, 0.0000, 0.0000],\n",
            "        [0.0417, 0.0417, 0.0435,  ..., 0.0000, 0.0000, 0.0000],\n",
            "        ...,\n",
            "        [0.0000, 0.0000, 0.0000,  ..., 0.0526, 0.0513, 0.0541],\n",
            "        [0.0000, 0.0000, 0.0000,  ..., 0.0513, 0.0500, 0.0527],\n",
            "        [0.0000, 0.0000, 0.0000,  ..., 0.0541, 0.0527, 0.0556]],\n",
            "       dtype=torch.float64)\n",
            "Edge index:  tensor([[0.0400, 0.0400, 0.0417,  ..., 0.0000, 0.0000, 0.0000],\n",
            "        [0.0400, 0.0400, 0.0417,  ..., 0.0000, 0.0000, 0.0000],\n",
            "        [0.0417, 0.0417, 0.0435,  ..., 0.0000, 0.0000, 0.0000],\n",
            "        ...,\n",
            "        [0.0000, 0.0000, 0.0000,  ..., 0.0526, 0.0513, 0.0541],\n",
            "        [0.0000, 0.0000, 0.0000,  ..., 0.0513, 0.0500, 0.0527],\n",
            "        [0.0000, 0.0000, 0.0000,  ..., 0.0541, 0.0527, 0.0556]],\n",
            "       dtype=torch.float64)\n",
            "Edge index:  tensor([[0.0400, 0.0400, 0.0417,  ..., 0.0000, 0.0000, 0.0000],\n",
            "        [0.0400, 0.0400, 0.0417,  ..., 0.0000, 0.0000, 0.0000],\n",
            "        [0.0417, 0.0417, 0.0435,  ..., 0.0000, 0.0000, 0.0000],\n",
            "        ...,\n",
            "        [0.0000, 0.0000, 0.0000,  ..., 0.0526, 0.0513, 0.0541],\n",
            "        [0.0000, 0.0000, 0.0000,  ..., 0.0513, 0.0500, 0.0527],\n",
            "        [0.0000, 0.0000, 0.0000,  ..., 0.0541, 0.0527, 0.0556]],\n",
            "       dtype=torch.float64)\n"
          ]
        },
        {
          "name": "stderr",
          "output_type": "stream",
          "text": [
            "/var/folders/f9/f489rvfn4hsdfx4c91m6h1b40000gn/T/ipykernel_17322/3489962941.py:55: UserWarning: To copy construct from a tensor, it is recommended to use sourceTensor.clone().detach() or sourceTensor.clone().detach().requires_grad_(True), rather than torch.tensor(sourceTensor).\n",
            "  shift_k = torch.tensor(edge_index, dtype=torch.float)\n"
          ]
        },
        {
          "name": "stdout",
          "output_type": "stream",
          "text": [
            "Edge index:  tensor([[0.0400, 0.0400, 0.0417,  ..., 0.0000, 0.0000, 0.0000],\n",
            "        [0.0400, 0.0400, 0.0417,  ..., 0.0000, 0.0000, 0.0000],\n",
            "        [0.0417, 0.0417, 0.0435,  ..., 0.0000, 0.0000, 0.0000],\n",
            "        ...,\n",
            "        [0.0000, 0.0000, 0.0000,  ..., 0.0526, 0.0513, 0.0541],\n",
            "        [0.0000, 0.0000, 0.0000,  ..., 0.0513, 0.0500, 0.0527],\n",
            "        [0.0000, 0.0000, 0.0000,  ..., 0.0541, 0.0527, 0.0556]],\n",
            "       dtype=torch.float64)\n",
            "Edge index:  tensor([[0.0400, 0.0400, 0.0417,  ..., 0.0000, 0.0000, 0.0000],\n",
            "        [0.0400, 0.0400, 0.0417,  ..., 0.0000, 0.0000, 0.0000],\n",
            "        [0.0417, 0.0417, 0.0435,  ..., 0.0000, 0.0000, 0.0000],\n",
            "        ...,\n",
            "        [0.0000, 0.0000, 0.0000,  ..., 0.0526, 0.0513, 0.0541],\n",
            "        [0.0000, 0.0000, 0.0000,  ..., 0.0513, 0.0500, 0.0527],\n",
            "        [0.0000, 0.0000, 0.0000,  ..., 0.0541, 0.0527, 0.0556]],\n",
            "       dtype=torch.float64)\n",
            "Edge index:  tensor([[0.0400, 0.0400, 0.0417,  ..., 0.0000, 0.0000, 0.0000],\n",
            "        [0.0400, 0.0400, 0.0417,  ..., 0.0000, 0.0000, 0.0000],\n",
            "        [0.0417, 0.0417, 0.0435,  ..., 0.0000, 0.0000, 0.0000],\n",
            "        ...,\n",
            "        [0.0000, 0.0000, 0.0000,  ..., 0.0526, 0.0513, 0.0541],\n",
            "        [0.0000, 0.0000, 0.0000,  ..., 0.0513, 0.0500, 0.0527],\n",
            "        [0.0000, 0.0000, 0.0000,  ..., 0.0541, 0.0527, 0.0556]],\n",
            "       dtype=torch.float64)\n",
            "Edge index:  tensor([[0.0400, 0.0400, 0.0417,  ..., 0.0000, 0.0000, 0.0000],\n",
            "        [0.0400, 0.0400, 0.0417,  ..., 0.0000, 0.0000, 0.0000],\n",
            "        [0.0417, 0.0417, 0.0435,  ..., 0.0000, 0.0000, 0.0000],\n",
            "        ...,\n",
            "        [0.0000, 0.0000, 0.0000,  ..., 0.0526, 0.0513, 0.0541],\n",
            "        [0.0000, 0.0000, 0.0000,  ..., 0.0513, 0.0500, 0.0527],\n",
            "        [0.0000, 0.0000, 0.0000,  ..., 0.0541, 0.0527, 0.0556]],\n",
            "       dtype=torch.float64)\n",
            "Edge index:  tensor([[0.0400, 0.0400, 0.0417,  ..., 0.0000, 0.0000, 0.0000],\n",
            "        [0.0400, 0.0400, 0.0417,  ..., 0.0000, 0.0000, 0.0000],\n",
            "        [0.0417, 0.0417, 0.0435,  ..., 0.0000, 0.0000, 0.0000],\n",
            "        ...,\n",
            "        [0.0000, 0.0000, 0.0000,  ..., 0.0526, 0.0513, 0.0541],\n",
            "        [0.0000, 0.0000, 0.0000,  ..., 0.0513, 0.0500, 0.0527],\n",
            "        [0.0000, 0.0000, 0.0000,  ..., 0.0541, 0.0527, 0.0556]],\n",
            "       dtype=torch.float64)\n",
            "Edge index:  tensor([[0.0400, 0.0400, 0.0417,  ..., 0.0000, 0.0000, 0.0000],\n",
            "        [0.0400, 0.0400, 0.0417,  ..., 0.0000, 0.0000, 0.0000],\n",
            "        [0.0417, 0.0417, 0.0435,  ..., 0.0000, 0.0000, 0.0000],\n",
            "        ...,\n",
            "        [0.0000, 0.0000, 0.0000,  ..., 0.0526, 0.0513, 0.0541],\n",
            "        [0.0000, 0.0000, 0.0000,  ..., 0.0513, 0.0500, 0.0527],\n",
            "        [0.0000, 0.0000, 0.0000,  ..., 0.0541, 0.0527, 0.0556]],\n",
            "       dtype=torch.float64)\n",
            "Edge index:  tensor([[0.0400, 0.0400, 0.0417,  ..., 0.0000, 0.0000, 0.0000],\n",
            "        [0.0400, 0.0400, 0.0417,  ..., 0.0000, 0.0000, 0.0000],\n",
            "        [0.0417, 0.0417, 0.0435,  ..., 0.0000, 0.0000, 0.0000],\n",
            "        ...,\n",
            "        [0.0000, 0.0000, 0.0000,  ..., 0.0526, 0.0513, 0.0541],\n",
            "        [0.0000, 0.0000, 0.0000,  ..., 0.0513, 0.0500, 0.0527],\n",
            "        [0.0000, 0.0000, 0.0000,  ..., 0.0541, 0.0527, 0.0556]],\n",
            "       dtype=torch.float64)\n",
            "Edge index:  tensor([[0.0400, 0.0400, 0.0417,  ..., 0.0000, 0.0000, 0.0000],\n",
            "        [0.0400, 0.0400, 0.0417,  ..., 0.0000, 0.0000, 0.0000],\n",
            "        [0.0417, 0.0417, 0.0435,  ..., 0.0000, 0.0000, 0.0000],\n",
            "        ...,\n",
            "        [0.0000, 0.0000, 0.0000,  ..., 0.0526, 0.0513, 0.0541],\n",
            "        [0.0000, 0.0000, 0.0000,  ..., 0.0513, 0.0500, 0.0527],\n",
            "        [0.0000, 0.0000, 0.0000,  ..., 0.0541, 0.0527, 0.0556]],\n",
            "       dtype=torch.float64)\n",
            "Edge index:  tensor([[0.0400, 0.0400, 0.0417,  ..., 0.0000, 0.0000, 0.0000],\n",
            "        [0.0400, 0.0400, 0.0417,  ..., 0.0000, 0.0000, 0.0000],\n",
            "        [0.0417, 0.0417, 0.0435,  ..., 0.0000, 0.0000, 0.0000],\n",
            "        ...,\n",
            "        [0.0000, 0.0000, 0.0000,  ..., 0.0526, 0.0513, 0.0541],\n",
            "        [0.0000, 0.0000, 0.0000,  ..., 0.0513, 0.0500, 0.0527],\n",
            "        [0.0000, 0.0000, 0.0000,  ..., 0.0541, 0.0527, 0.0556]],\n",
            "       dtype=torch.float64)\n",
            "Edge index:  tensor([[0.0400, 0.0400, 0.0417,  ..., 0.0000, 0.0000, 0.0000],\n",
            "        [0.0400, 0.0400, 0.0417,  ..., 0.0000, 0.0000, 0.0000],\n",
            "        [0.0417, 0.0417, 0.0435,  ..., 0.0000, 0.0000, 0.0000],\n",
            "        ...,\n",
            "        [0.0000, 0.0000, 0.0000,  ..., 0.0526, 0.0513, 0.0541],\n",
            "        [0.0000, 0.0000, 0.0000,  ..., 0.0513, 0.0500, 0.0527],\n",
            "        [0.0000, 0.0000, 0.0000,  ..., 0.0541, 0.0527, 0.0556]],\n",
            "       dtype=torch.float64)\n",
            "Edge index:  tensor([[0.0400, 0.0400, 0.0417,  ..., 0.0000, 0.0000, 0.0000],\n",
            "        [0.0400, 0.0400, 0.0417,  ..., 0.0000, 0.0000, 0.0000],\n",
            "        [0.0417, 0.0417, 0.0435,  ..., 0.0000, 0.0000, 0.0000],\n",
            "        ...,\n",
            "        [0.0000, 0.0000, 0.0000,  ..., 0.0526, 0.0513, 0.0541],\n",
            "        [0.0000, 0.0000, 0.0000,  ..., 0.0513, 0.0500, 0.0527],\n",
            "        [0.0000, 0.0000, 0.0000,  ..., 0.0541, 0.0527, 0.0556]],\n",
            "       dtype=torch.float64)\n",
            "Edge index:  tensor([[0.0400, 0.0400, 0.0417,  ..., 0.0000, 0.0000, 0.0000],\n",
            "        [0.0400, 0.0400, 0.0417,  ..., 0.0000, 0.0000, 0.0000],\n",
            "        [0.0417, 0.0417, 0.0435,  ..., 0.0000, 0.0000, 0.0000],\n",
            "        ...,\n",
            "        [0.0000, 0.0000, 0.0000,  ..., 0.0526, 0.0513, 0.0541],\n",
            "        [0.0000, 0.0000, 0.0000,  ..., 0.0513, 0.0500, 0.0527],\n",
            "        [0.0000, 0.0000, 0.0000,  ..., 0.0541, 0.0527, 0.0556]],\n",
            "       dtype=torch.float64)\n",
            "Edge index:  tensor([[0.0400, 0.0400, 0.0417,  ..., 0.0000, 0.0000, 0.0000],\n",
            "        [0.0400, 0.0400, 0.0417,  ..., 0.0000, 0.0000, 0.0000],\n",
            "        [0.0417, 0.0417, 0.0435,  ..., 0.0000, 0.0000, 0.0000],\n",
            "        ...,\n",
            "        [0.0000, 0.0000, 0.0000,  ..., 0.0526, 0.0513, 0.0541],\n",
            "        [0.0000, 0.0000, 0.0000,  ..., 0.0513, 0.0500, 0.0527],\n",
            "        [0.0000, 0.0000, 0.0000,  ..., 0.0541, 0.0527, 0.0556]],\n",
            "       dtype=torch.float64)\n",
            "Edge index:  tensor([[0.0400, 0.0400, 0.0417,  ..., 0.0000, 0.0000, 0.0000],\n",
            "        [0.0400, 0.0400, 0.0417,  ..., 0.0000, 0.0000, 0.0000],\n",
            "        [0.0417, 0.0417, 0.0435,  ..., 0.0000, 0.0000, 0.0000],\n",
            "        ...,\n",
            "        [0.0000, 0.0000, 0.0000,  ..., 0.0526, 0.0513, 0.0541],\n",
            "        [0.0000, 0.0000, 0.0000,  ..., 0.0513, 0.0500, 0.0527],\n",
            "        [0.0000, 0.0000, 0.0000,  ..., 0.0541, 0.0527, 0.0556]],\n",
            "       dtype=torch.float64)\n",
            "Edge index:  tensor([[0.0400, 0.0400, 0.0417,  ..., 0.0000, 0.0000, 0.0000],\n",
            "        [0.0400, 0.0400, 0.0417,  ..., 0.0000, 0.0000, 0.0000],\n",
            "        [0.0417, 0.0417, 0.0435,  ..., 0.0000, 0.0000, 0.0000],\n",
            "        ...,\n",
            "        [0.0000, 0.0000, 0.0000,  ..., 0.0526, 0.0513, 0.0541],\n",
            "        [0.0000, 0.0000, 0.0000,  ..., 0.0513, 0.0500, 0.0527],\n",
            "        [0.0000, 0.0000, 0.0000,  ..., 0.0541, 0.0527, 0.0556]],\n",
            "       dtype=torch.float64)\n",
            "Edge index:  tensor([[0.0400, 0.0400, 0.0417,  ..., 0.0000, 0.0000, 0.0000],\n",
            "        [0.0400, 0.0400, 0.0417,  ..., 0.0000, 0.0000, 0.0000],\n",
            "        [0.0417, 0.0417, 0.0435,  ..., 0.0000, 0.0000, 0.0000],\n",
            "        ...,\n",
            "        [0.0000, 0.0000, 0.0000,  ..., 0.0526, 0.0513, 0.0541],\n",
            "        [0.0000, 0.0000, 0.0000,  ..., 0.0513, 0.0500, 0.0527],\n",
            "        [0.0000, 0.0000, 0.0000,  ..., 0.0541, 0.0527, 0.0556]],\n",
            "       dtype=torch.float64)\n",
            "Edge index:  tensor([[0.0400, 0.0400, 0.0417,  ..., 0.0000, 0.0000, 0.0000],\n",
            "        [0.0400, 0.0400, 0.0417,  ..., 0.0000, 0.0000, 0.0000],\n",
            "        [0.0417, 0.0417, 0.0435,  ..., 0.0000, 0.0000, 0.0000],\n",
            "        ...,\n",
            "        [0.0000, 0.0000, 0.0000,  ..., 0.0526, 0.0513, 0.0541],\n",
            "        [0.0000, 0.0000, 0.0000,  ..., 0.0513, 0.0500, 0.0527],\n",
            "        [0.0000, 0.0000, 0.0000,  ..., 0.0541, 0.0527, 0.0556]],\n",
            "       dtype=torch.float64)\n",
            "Edge index:  tensor([[0.0400, 0.0400, 0.0417,  ..., 0.0000, 0.0000, 0.0000],\n",
            "        [0.0400, 0.0400, 0.0417,  ..., 0.0000, 0.0000, 0.0000],\n",
            "        [0.0417, 0.0417, 0.0435,  ..., 0.0000, 0.0000, 0.0000],\n",
            "        ...,\n",
            "        [0.0000, 0.0000, 0.0000,  ..., 0.0526, 0.0513, 0.0541],\n",
            "        [0.0000, 0.0000, 0.0000,  ..., 0.0513, 0.0500, 0.0527],\n",
            "        [0.0000, 0.0000, 0.0000,  ..., 0.0541, 0.0527, 0.0556]],\n",
            "       dtype=torch.float64)\n",
            "Edge index:  tensor([[0.0400, 0.0400, 0.0417,  ..., 0.0000, 0.0000, 0.0000],\n",
            "        [0.0400, 0.0400, 0.0417,  ..., 0.0000, 0.0000, 0.0000],\n",
            "        [0.0417, 0.0417, 0.0435,  ..., 0.0000, 0.0000, 0.0000],\n",
            "        ...,\n",
            "        [0.0000, 0.0000, 0.0000,  ..., 0.0526, 0.0513, 0.0541],\n",
            "        [0.0000, 0.0000, 0.0000,  ..., 0.0513, 0.0500, 0.0527],\n",
            "        [0.0000, 0.0000, 0.0000,  ..., 0.0541, 0.0527, 0.0556]],\n",
            "       dtype=torch.float64)\n",
            "Edge index:  tensor([[0.0400, 0.0400, 0.0417,  ..., 0.0000, 0.0000, 0.0000],\n",
            "        [0.0400, 0.0400, 0.0417,  ..., 0.0000, 0.0000, 0.0000],\n",
            "        [0.0417, 0.0417, 0.0435,  ..., 0.0000, 0.0000, 0.0000],\n",
            "        ...,\n",
            "        [0.0000, 0.0000, 0.0000,  ..., 0.0526, 0.0513, 0.0541],\n",
            "        [0.0000, 0.0000, 0.0000,  ..., 0.0513, 0.0500, 0.0527],\n",
            "        [0.0000, 0.0000, 0.0000,  ..., 0.0541, 0.0527, 0.0556]],\n",
            "       dtype=torch.float64)\n",
            "Edge index:  tensor([[0.0400, 0.0400, 0.0417,  ..., 0.0000, 0.0000, 0.0000],\n",
            "        [0.0400, 0.0400, 0.0417,  ..., 0.0000, 0.0000, 0.0000],\n",
            "        [0.0417, 0.0417, 0.0435,  ..., 0.0000, 0.0000, 0.0000],\n",
            "        ...,\n",
            "        [0.0000, 0.0000, 0.0000,  ..., 0.0526, 0.0513, 0.0541],\n",
            "        [0.0000, 0.0000, 0.0000,  ..., 0.0513, 0.0500, 0.0527],\n",
            "        [0.0000, 0.0000, 0.0000,  ..., 0.0541, 0.0527, 0.0556]],\n",
            "       dtype=torch.float64)\n",
            "Edge index:  tensor([[0.0400, 0.0400, 0.0417,  ..., 0.0000, 0.0000, 0.0000],\n",
            "        [0.0400, 0.0400, 0.0417,  ..., 0.0000, 0.0000, 0.0000],\n",
            "        [0.0417, 0.0417, 0.0435,  ..., 0.0000, 0.0000, 0.0000],\n",
            "        ...,\n",
            "        [0.0000, 0.0000, 0.0000,  ..., 0.0526, 0.0513, 0.0541],\n",
            "        [0.0000, 0.0000, 0.0000,  ..., 0.0513, 0.0500, 0.0527],\n",
            "        [0.0000, 0.0000, 0.0000,  ..., 0.0541, 0.0527, 0.0556]],\n",
            "       dtype=torch.float64)\n",
            "Edge index:  tensor([[0.0400, 0.0400, 0.0417,  ..., 0.0000, 0.0000, 0.0000],\n",
            "        [0.0400, 0.0400, 0.0417,  ..., 0.0000, 0.0000, 0.0000],\n",
            "        [0.0417, 0.0417, 0.0435,  ..., 0.0000, 0.0000, 0.0000],\n",
            "        ...,\n",
            "        [0.0000, 0.0000, 0.0000,  ..., 0.0526, 0.0513, 0.0541],\n",
            "        [0.0000, 0.0000, 0.0000,  ..., 0.0513, 0.0500, 0.0527],\n",
            "        [0.0000, 0.0000, 0.0000,  ..., 0.0541, 0.0527, 0.0556]],\n",
            "       dtype=torch.float64)\n",
            "Edge index:  tensor([[0.0400, 0.0400, 0.0417,  ..., 0.0000, 0.0000, 0.0000],\n",
            "        [0.0400, 0.0400, 0.0417,  ..., 0.0000, 0.0000, 0.0000],\n",
            "        [0.0417, 0.0417, 0.0435,  ..., 0.0000, 0.0000, 0.0000],\n",
            "        ...,\n",
            "        [0.0000, 0.0000, 0.0000,  ..., 0.0526, 0.0513, 0.0541],\n",
            "        [0.0000, 0.0000, 0.0000,  ..., 0.0513, 0.0500, 0.0527],\n",
            "        [0.0000, 0.0000, 0.0000,  ..., 0.0541, 0.0527, 0.0556]],\n",
            "       dtype=torch.float64)\n",
            "Edge index:  tensor([[0.0400, 0.0400, 0.0417,  ..., 0.0000, 0.0000, 0.0000],\n",
            "        [0.0400, 0.0400, 0.0417,  ..., 0.0000, 0.0000, 0.0000],\n",
            "        [0.0417, 0.0417, 0.0435,  ..., 0.0000, 0.0000, 0.0000],\n",
            "        ...,\n",
            "        [0.0000, 0.0000, 0.0000,  ..., 0.0526, 0.0513, 0.0541],\n",
            "        [0.0000, 0.0000, 0.0000,  ..., 0.0513, 0.0500, 0.0527],\n",
            "        [0.0000, 0.0000, 0.0000,  ..., 0.0541, 0.0527, 0.0556]],\n",
            "       dtype=torch.float64)\n",
            "Edge index:  tensor([[0.0400, 0.0400, 0.0417,  ..., 0.0000, 0.0000, 0.0000],\n",
            "        [0.0400, 0.0400, 0.0417,  ..., 0.0000, 0.0000, 0.0000],\n",
            "        [0.0417, 0.0417, 0.0435,  ..., 0.0000, 0.0000, 0.0000],\n",
            "        ...,\n",
            "        [0.0000, 0.0000, 0.0000,  ..., 0.0526, 0.0513, 0.0541],\n",
            "        [0.0000, 0.0000, 0.0000,  ..., 0.0513, 0.0500, 0.0527],\n",
            "        [0.0000, 0.0000, 0.0000,  ..., 0.0541, 0.0527, 0.0556]],\n",
            "       dtype=torch.float64)\n",
            "Edge index:  tensor([[0.0400, 0.0400, 0.0417,  ..., 0.0000, 0.0000, 0.0000],\n",
            "        [0.0400, 0.0400, 0.0417,  ..., 0.0000, 0.0000, 0.0000],\n",
            "        [0.0417, 0.0417, 0.0435,  ..., 0.0000, 0.0000, 0.0000],\n",
            "        ...,\n",
            "        [0.0000, 0.0000, 0.0000,  ..., 0.0526, 0.0513, 0.0541],\n",
            "        [0.0000, 0.0000, 0.0000,  ..., 0.0513, 0.0500, 0.0527],\n",
            "        [0.0000, 0.0000, 0.0000,  ..., 0.0541, 0.0527, 0.0556]],\n",
            "       dtype=torch.float64)\n",
            "pliep\n"
          ]
        }
      ],
      "source": [
        "#RUN THIS \n",
        "from torch_geometric.utils import from_networkx\n",
        "from torch_geometric.utils import dense_to_sparse\n",
        "\n",
        "explainer = Explainer(\n",
        "    model=model,\n",
        "    algorithm=GNNExplainer(epochs=10),\n",
        "    explanation_type='model',\n",
        "    node_mask_type='object',\n",
        "    model_config=dict(\n",
        "        mode='regression',\n",
        "        task_level='node',\n",
        "        return_type='raw',\n",
        "    ),\n",
        ")\n",
        "\n",
        "# data = from_networkx(G)\n",
        "# edge_index = data.edge_index\n",
        "\n",
        "edge_index = dense_to_sparse(pg)\n",
        "\n",
        "print(\"Edge Index:\")\n",
        "print(edge_index[0].shape) \n",
        "\n",
        "\n",
        "node_idx = 344\n",
        "kwargs = {'expl':True, 'hid_sizes':[128,128, 1]}\n",
        "\n",
        "#RUN THIS \n",
        "\n",
        "for x, y in train_loader:\n",
        "  x, y = x.to(device), y.to(device)\n",
        "  for x_single in x:\n",
        "\n",
        "    print(f\"Single shape x: {x_single.shape}\")\n",
        "    explanation = explainer(x=x_single, edge_index=pg, index=node_idx, **kwargs)\n",
        "    break\n",
        "  print(\"pliep\")\n",
        "  break\n",
        "\n",
        "  #explanation = explainer(x=x_single, edge_index=edge_index[0],index=5, **kwargs)\n",
        "  #break\n",
        "\n",
        "#explanation = explainer(x=torch.tensor(train_reshaped, dtype=torch.float), edge_index=edge_index_list, index=node_idx)"
      ]
    },
    {
      "cell_type": "code",
      "execution_count": 98,
      "metadata": {},
      "outputs": [
        {
          "name": "stdout",
          "output_type": "stream",
          "text": [
            "Explanation(node_mask=[1608, 1], prediction=[1608, 1], target=[1608, 1], index=[1], x=[1608, 1], edge_index=[1608, 1608], expl=True, hid_sizes=[3])\n",
            "tensor([[0.5061],\n",
            "        [0.4858],\n",
            "        [0.4746],\n",
            "        ...,\n",
            "        [0.0000],\n",
            "        [0.0000],\n",
            "        [0.0000]])\n"
          ]
        }
      ],
      "source": [
        "print(explanation)\n",
        "explanation.node_mask.shape\n",
        "print(explanation.node_mask)\n",
        "\n",
        "\n",
        "#Explanation(node_mask=[2708, 1433], edge_mask=[10556], prediction=[2708, 7], target=[2708], index=[1], x=[2708, 1433], edge_index=[2, 10556])"
      ]
    },
    {
      "cell_type": "code",
      "execution_count": 99,
      "metadata": {},
      "outputs": [
        {
          "name": "stdout",
          "output_type": "stream",
          "text": [
            "Data saved to explanation_data_344.csv\n"
          ]
        }
      ],
      "source": [
        "# Assuming 'explanation' contains the tensor data you want to save\n",
        "tensor_data = explanation.node_mask.tolist()  # Convert tensor to list\n",
        "\n",
        "# Define the file path where you want to save the CSV\n",
        "csv_file = f'explanation_data_{node_idx}.csv'\n",
        "\n",
        "# Write the data to CSV\n",
        "with open(csv_file, 'w', newline='') as file:\n",
        "    writer = csv.writer(file)\n",
        "    writer.writerows(tensor_data)\n",
        "\n",
        "print(f\"Data saved to {csv_file}\")"
      ]
    },
    {
      "cell_type": "code",
      "execution_count": 84,
      "metadata": {},
      "outputs": [
        {
          "name": "stdout",
          "output_type": "stream",
          "text": [
            "Nodes impacting node 3 with importance score above 0.0: [0, 1, 2, 3, 4, 5, 6, 7, 8, 9, 10, 11, 12, 13, 14, 15, 16, 17, 18, 19, 20, 21, 22, 23, 24, 25, 26, 27, 28, 29, 30, 31, 32, 33, 34, 35, 36, 37, 38, 39, 40, 41, 42, 43, 44, 45, 46, 47, 48, 49, 50, 51, 52, 53, 54, 55, 56, 57, 58, 59, 60, 61, 62, 63, 64, 65, 66, 67, 68, 69, 70, 71, 72, 73, 74, 75, 76, 77, 78, 79, 80, 81, 82, 83, 84, 85, 86, 87, 88, 89, 90, 91, 92, 93, 94, 95, 96, 97, 98, 99, 100, 101, 102, 103, 104, 105, 106, 107, 108, 109, 110, 111, 112, 113, 114, 115, 116, 117, 118, 119, 120, 121, 122, 123, 124, 125, 126, 127, 128, 129, 130, 131, 132, 133, 134, 135, 136, 137, 138, 139, 140, 141, 142, 143, 144, 145, 146, 147, 148, 149, 150, 151, 152, 153, 154, 155, 156, 157, 158, 159, 160, 161, 162, 163, 164, 165, 166, 167, 168, 169, 170, 171, 172, 173, 174, 175, 176, 177, 178, 179, 180, 181, 182, 183, 184, 185, 186, 187, 188, 189, 190, 191, 192, 193, 194, 195, 196, 197, 198, 199, 200, 201, 202, 203, 204, 205, 206, 207, 208, 209, 210, 211, 212, 213, 214, 215, 216, 217, 218, 219, 220, 221, 222, 223, 224, 225, 226, 227, 228, 229, 230, 231, 232, 233, 234, 235, 236, 237, 238, 239, 240, 241, 242, 243, 244, 245, 246, 247, 248, 249, 250, 251, 252, 253, 254, 255, 256, 257, 258, 259, 260, 261, 262, 263, 264, 265, 266, 267, 268, 269, 270, 271, 272, 273, 274, 275, 276, 277, 278, 279, 280, 281, 282, 283, 284, 285, 286, 287, 288, 289, 290, 291, 292, 293, 294, 295, 296, 297, 298, 299, 300, 301, 302, 303, 304, 305, 306, 307, 308, 309, 310, 311, 312, 313, 314, 315, 316, 317, 318, 319, 320, 321, 322, 323, 324, 325, 326, 327, 328, 329, 330, 331, 333, 334, 335, 336, 337, 338, 339, 340, 341, 342, 343, 344, 345, 346, 347, 348, 349, 350, 351, 352, 353, 354, 355, 356, 357, 358, 359, 360, 361, 362, 363, 364, 365, 366, 367, 368, 369, 370, 371, 372, 373, 374, 375, 376, 377, 378, 379, 380, 381, 382, 383, 384, 385, 386, 387, 388, 389, 390, 391, 392, 393, 394, 395, 396, 397, 398, 399, 400, 401, 402, 403, 404, 405, 406, 407, 408, 409, 410, 411, 412, 413, 414, 415, 416, 417, 418, 419, 420, 421, 422, 424, 425, 426, 427, 428, 429, 430, 431, 432, 433, 434, 435, 436, 437, 438, 439, 440, 441, 442, 443, 444, 445, 446, 447, 448, 449, 450, 451, 452, 453, 454, 455, 456, 457, 458, 459, 460, 461, 462, 463, 464, 465, 466, 467, 468, 469, 470, 471, 472, 473, 474, 475, 476, 477, 478, 479, 480, 481, 482, 483, 484, 485, 486, 487, 488, 489, 490, 491, 492, 493, 494, 495, 496, 497, 498, 499, 501, 502, 503, 504, 505, 506, 507, 508, 509, 510, 511, 512, 513, 514, 515, 516, 517, 518, 519, 520, 521, 522, 523, 524, 525, 526, 527, 528, 529, 530, 531, 532, 533, 534, 535, 536, 537, 538, 539, 540, 541, 542, 543, 544, 545, 546, 547, 548, 549, 550, 551, 552, 553, 554, 555, 556, 557, 558, 559, 560, 561, 562, 563, 564, 566, 567, 568, 569, 570, 571, 572, 573, 574, 575, 576, 577, 578, 579, 580, 581, 582, 583, 584, 585, 586, 587, 588, 589, 590, 591, 592, 594, 595, 596, 597, 598, 599, 600, 601, 602, 603, 604, 605, 606, 607, 608, 609, 610, 611, 612, 613, 614, 615, 616, 617, 618, 619, 620, 621, 622, 623, 624, 625, 626, 627, 628, 629, 630, 631, 632, 633, 634, 636, 637, 638, 639, 640, 641, 642, 643, 644, 645, 646, 647, 648, 649, 650, 651, 652, 653, 654, 655, 656, 657, 658, 659, 660, 661, 662, 663, 664, 665, 666, 667, 668, 669, 670, 671, 672, 673, 674, 675, 676, 677, 678, 679, 680, 681, 682, 683, 684, 685, 686, 687, 688, 689, 690, 691, 692, 694, 695, 696, 697, 698, 699, 700, 701, 702, 703, 704, 705, 706, 707, 708, 709, 710, 711, 712, 713, 714, 715, 716, 717, 718, 719, 720, 721, 722, 723, 724, 725, 726, 727, 728, 729, 730, 731, 732, 733, 734, 735, 736, 737, 738, 739, 740, 741, 742, 743, 744, 745, 746, 747, 748, 749, 750, 751, 752, 753, 754, 755, 756, 757, 758, 759, 760, 761, 762, 763, 764, 765, 766, 767, 768, 769, 770, 771, 772, 773, 774, 775, 776, 777, 778, 779, 780, 781, 782, 783, 784, 785, 786, 787, 788, 789, 790, 791, 792, 793, 794, 795, 796, 797, 798, 799, 800, 801, 802, 803, 805, 806, 807, 808, 809, 810, 811, 812, 813, 814, 815, 816, 817, 819, 820, 821, 822, 823, 824, 825, 826, 827, 828, 829, 830, 831, 832, 833, 834, 835, 836, 837, 838, 839, 840, 841, 842, 843, 844, 845, 846, 847, 848, 849, 850, 852, 853, 854, 855, 856, 857, 858, 859, 860, 861, 862, 863, 864, 865, 866, 867, 868, 869, 870, 871, 872, 873, 874, 875, 876, 877, 878, 879, 880, 881, 882, 883, 884, 885, 886, 887, 888, 889, 890, 891, 892, 893, 894, 895, 896, 897, 898, 899, 900, 901, 902, 903, 904, 905, 906, 907, 908, 909, 910, 911, 912, 913, 914, 915, 916, 917, 918, 919, 920, 921, 922, 923, 924, 925, 926, 927, 928, 929, 930, 931, 932, 934, 935, 936, 937, 938, 939, 940, 941, 942, 943, 944, 945, 946, 947, 948, 949, 950, 951, 952, 953, 954, 955, 956, 957, 958, 959, 960, 961, 962, 963, 964, 965, 966, 967, 968, 969, 970, 971, 972, 973, 974, 975, 976, 978, 979, 980, 981, 982, 983, 984, 985, 986, 987, 988, 989, 990, 991, 992, 993, 994, 995, 996, 997, 998, 999, 1000, 1001, 1002, 1003, 1004, 1005, 1006, 1007, 1008, 1009, 1010, 1011, 1012, 1013, 1014, 1015, 1016, 1017, 1018, 1019, 1020, 1021, 1022, 1023, 1024, 1025, 1026, 1027, 1028, 1029, 1030, 1031, 1032, 1033, 1034, 1035, 1036, 1037, 1038, 1039, 1040, 1041, 1042, 1043, 1044, 1045, 1046, 1047, 1048, 1049, 1050, 1051, 1052, 1053, 1054, 1055, 1056, 1057, 1058, 1059, 1060, 1061, 1062, 1063, 1064, 1065, 1066, 1067, 1068, 1069, 1070, 1071, 1072, 1073, 1074, 1075, 1076, 1077, 1078, 1079, 1080, 1081, 1082, 1083, 1084, 1085, 1086, 1087, 1088, 1089, 1090, 1091, 1092, 1093, 1094, 1095, 1096, 1097, 1098, 1099, 1100, 1101, 1102, 1103, 1104, 1105, 1106, 1107, 1108, 1109, 1110, 1111, 1112, 1113, 1114, 1115, 1116, 1117, 1118, 1119, 1120, 1121, 1122, 1123, 1124, 1125, 1126, 1127, 1128, 1129, 1130, 1131, 1132, 1133, 1134, 1135, 1136, 1137, 1138, 1139, 1140, 1141, 1142, 1143, 1144, 1146, 1147, 1148, 1149, 1150, 1151, 1152, 1153, 1154, 1155, 1156, 1157, 1158, 1159, 1160, 1161, 1162, 1163, 1164, 1165, 1166, 1167, 1168, 1169, 1170, 1171, 1172, 1173, 1174, 1175, 1176, 1177, 1178, 1179, 1180, 1181, 1182, 1183, 1184, 1185, 1186, 1187, 1188, 1189, 1190, 1191, 1192, 1193, 1194, 1195, 1196, 1197, 1198, 1199, 1200, 1201, 1202, 1203, 1204, 1205, 1206, 1207, 1208, 1209, 1210, 1211, 1212, 1213, 1214, 1215, 1216, 1217, 1218, 1219, 1220, 1221, 1222, 1223, 1224, 1225, 1226, 1227, 1228, 1229, 1230, 1231, 1232, 1233, 1234, 1235, 1237, 1238, 1239, 1240, 1241, 1242, 1244, 1245, 1246, 1247, 1248, 1249, 1250, 1251, 1252, 1253, 1254, 1255, 1256, 1257, 1258, 1259, 1260, 1261, 1262, 1263, 1264, 1265, 1266, 1267, 1268, 1269, 1270, 1271, 1272, 1273, 1274, 1275, 1276, 1277, 1278, 1279, 1280, 1281, 1282, 1283, 1284, 1285, 1286, 1287, 1288, 1289, 1290, 1291, 1292, 1293, 1294, 1295, 1296, 1297, 1298, 1299, 1300, 1301, 1302, 1303, 1304, 1305, 1306, 1307, 1308, 1309, 1310, 1311, 1312, 1313, 1314, 1315, 1316, 1317, 1318, 1319, 1320, 1321, 1322, 1323, 1324, 1325, 1326, 1327, 1328, 1329, 1330, 1331, 1332, 1333, 1334, 1335, 1336, 1337, 1338, 1339, 1340, 1341, 1342, 1343, 1344, 1345, 1346, 1347, 1348, 1349, 1350, 1351, 1352, 1353, 1354, 1355, 1356, 1357, 1358, 1359, 1361, 1362, 1363, 1364, 1365, 1366, 1367, 1368, 1369, 1370, 1371, 1372, 1373, 1374, 1375, 1376, 1377, 1378, 1379, 1380, 1381, 1382, 1383, 1385, 1386, 1387, 1388, 1389, 1390, 1391, 1392, 1393, 1394, 1395, 1397, 1398, 1399, 1400, 1401, 1402, 1403, 1404, 1405, 1406, 1407, 1408, 1409, 1410, 1411, 1412, 1413, 1414, 1415, 1416, 1417, 1418, 1419, 1420, 1421, 1422, 1423, 1424, 1425, 1426, 1427, 1428, 1429, 1430, 1431, 1432, 1433, 1434, 1435, 1436, 1437, 1438, 1439, 1440, 1441, 1442, 1443, 1444, 1445, 1446, 1447, 1448, 1449, 1450, 1451, 1452, 1453, 1454, 1455, 1456, 1457, 1458, 1459, 1460, 1461, 1462, 1463, 1464, 1465, 1466, 1467, 1468, 1469, 1470, 1471, 1472, 1473, 1474, 1475, 1476, 1477, 1478, 1479, 1480, 1481, 1482, 1483, 1484, 1485, 1487, 1488, 1489, 1490, 1491, 1492, 1493, 1494, 1495, 1496, 1497, 1498, 1499, 1500, 1501, 1502, 1503, 1504, 1505, 1506, 1507, 1508, 1509, 1510, 1511, 1512, 1513, 1514, 1515, 1516, 1517, 1518, 1519, 1520, 1521, 1522, 1523, 1524, 1525, 1526, 1527, 1528, 1529, 1530, 1531, 1532, 1533, 1534, 1535, 1536, 1537, 1538, 1539, 1540, 1541, 1542, 1543, 1544, 1545, 1546, 1547, 1548, 1549, 1550, 1551, 1552, 1553, 1554, 1555, 1556, 1557, 1558, 1559, 1560, 1561, 1562, 1563, 1564, 1565, 1566, 1567, 1568, 1569, 1570, 1571, 1572, 1573, 1574, 1575, 1576, 1577, 1578, 1579, 1580, 1581, 1582, 1583, 1584, 1585, 1586, 1587, 1588, 1589, 1590, 1591, 1592, 1593, 1594, 1595, 1596, 1597, 1598, 1599, 1600, 1601, 1602, 1603, 1604, 1605, 1606, 1607]\n",
            "total impacted nodes:  1589\n"
          ]
        }
      ],
      "source": [
        "# Assuming explanation is obtained from your explainer\n",
        "node_mask = explanation.node_mask\n",
        "\n",
        "# Extracting importance scores for node 3\n",
        "node_importance = node_mask[:, 0]  # Extracting the single importance score for each batch\n",
        "\n",
        "# Determine which nodes have impact on node 3\n",
        "threshold = 0.0  # Adjust as needed based on the scale of importance scores\n",
        "impacted_nodes = []\n",
        "\n",
        "for i, importance_score in enumerate(node_importance):\n",
        "    if importance_score > threshold:\n",
        "        impacted_nodes.append(i)\n",
        "\n",
        "# impacted_nodes now contains indices of batches where node 3 is impacted\n",
        "\n",
        "print(f\"Nodes impacting node 3 with importance score above {threshold}: {impacted_nodes}\")\n",
        "\n",
        "print(\"total impacted nodes: \", len(impacted_nodes))"
      ]
    },
    {
      "cell_type": "code",
      "execution_count": 85,
      "metadata": {},
      "outputs": [
        {
          "data": {
            "image/png": "[encoded data removed]",
            "text/plain": [
              "<Figure size 1000x600 with 1 Axes>"
            ]
          },
          "metadata": {},
          "output_type": "display_data"
        }
      ],
      "source": [
        "import matplotlib.pyplot as plt\n",
        "\n",
        "# Generate some sample data (replace with your actual data)\n",
        "x = np.arange(1608)  # Generate x values from 0 to 1607\n",
        "y = node_importance  # Replace with your actual data array\n",
        "\n",
        "# Plotting\n",
        "plt.figure(figsize=(10, 6))  # Adjust size as needed\n",
        "plt.plot(x, y, label='Data')\n",
        "plt.title('Line Plot of Data')\n",
        "plt.xlabel('Index')\n",
        "plt.ylabel('Values')\n",
        "plt.grid(True)\n",
        "plt.legend()\n",
        "plt.tight_layout()\n",
        "\n",
        "# Show plot\n",
        "plt.show()"
      ]
    },
    {
      "cell_type": "code",
      "execution_count": 78,
      "metadata": {},
      "outputs": [
        {
          "data": {
            "image/png": "[encoded data removed]",
            "text/plain": [
              "<Figure size 1200x600 with 1 Axes>"
            ]
          },
          "metadata": {},
          "output_type": "display_data"
        }
      ],
      "source": [
        "# Example importance scores for the product graph (1608 nodes)\n",
        "# Replace with your actual importance scores from GNNexplainer\n",
        "importance_scores_product_graph = node_importance\n",
        "\n",
        "# Assume you have a function to map from (turbine_index, timestep_index) to product graph node index\n",
        "def node_index(turbine_index, timestep_index):\n",
        "    return turbine_index * 12 + timestep_index\n",
        "\n",
        "# Aggregate importance scores for each turbine\n",
        "turbine_ids = range(1, 135)\n",
        "importance_scores_turbines = np.zeros(134)  # Initialize array for aggregate scores\n",
        "\n",
        "for t in range(134):\n",
        "    for s in range(12):\n",
        "        product_graph_index = node_index(t, s)\n",
        "        importance_scores_turbines[t] += importance_scores_product_graph[product_graph_index]\n",
        "\n",
        "# Plotting\n",
        "plt.figure(figsize=(12, 6))\n",
        "plt.bar(turbine_ids, importance_scores_turbines, color='skyblue')\n",
        "plt.xlabel('Turbine ID')\n",
        "plt.ylabel('Aggregate Importance Score')\n",
        "plt.title('Aggregate Importance Scores of Turbines')\n",
        "plt.xticks(ticks=range(1, 135, 10))  # Adjust ticks as needed\n",
        "plt.grid(axis='y', linestyle='--', alpha=0.7)\n",
        "plt.show()"
      ]
    },
    {
      "cell_type": "code",
      "execution_count": null,
      "metadata": {},
      "outputs": [],
      "source": []
    }
  ],
  "metadata": {
    "colab": {
      "provenance": []
    },
    "kernelspec": {
      "display_name": "Python 3 (ipykernel)",
      "language": "python",
      "name": "python3"
    },
    "language_info": {
      "codemirror_mode": {
        "name": "ipython",
        "version": 3
      },
      "file_extension": ".py",
      "mimetype": "text/x-python",
      "name": "python",
      "nbconvert_exporter": "python",
      "pygments_lexer": "ipython3",
      "version": "3.11.7"
    }
  },
  "nbformat": 4,
  "nbformat_minor": 0
}
