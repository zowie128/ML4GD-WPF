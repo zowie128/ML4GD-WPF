{
 "cells": [
  {
   "cell_type": "code",
   "execution_count": null,
   "metadata": {},
   "outputs": [],
   "source": [
    "import sys\n",
    "import csv\n",
    "import torch\n",
    "import importlib\n",
    "import pandas as pd\n",
    "import matplotlib.pyplot as plt\n",
    "import numpy as np\n",
    "import torch.utils.data as data\n",
    "import torch.nn.functional as F\n",
    "from statsmodels.tsa.seasonal import seasonal_decompose\n",
    "from statsmodels.tsa.stattools import adfuller\n",
    "from statsmodels.graphics.tsaplots import plot_acf, plot_pacf\n",
    "from BDDData import *\n",
    "from joblib import Parallel, delayed"
   ]
  },
  {
   "cell_type": "code",
   "execution_count": null,
   "metadata": {},
   "outputs": [],
   "source": [
    "columns = ['TurbID', 'Day', 'Tmstamp', 'Patv']\n",
    "df = pd.read_csv('raw_data/sdwpf_turb_information.csv', usecols=columns)\n",
    "df[df['Patv'] < 0] = 0\n",
    "# df.replace(0, np.nan, inplace=True)\n",
    "# df['Patv'] = df['Patv'].interpolate(method='linear')"
   ]
  },
  {
   "cell_type": "code",
   "execution_count": null,
   "metadata": {},
   "outputs": [],
   "source": [
    "# Code to determine ARIMA orders by checking stationarity and autocorrelation\n",
    "turbine_data = df[df['TurbID'] == 1]\n",
    "\n",
    "turbine_data['Datetime'] = pd.to_datetime('2024-01-01') + pd.to_timedelta(turbine_data['Day'] - 1, unit='D') + pd.to_timedelta(turbine_data['Tmstamp'] + ':00')\n",
    "\n",
    "turbine_data.set_index('Datetime', inplace=True)\n",
    "turbine_data.sort_index(inplace=True)\n",
    "\n",
    "turbine_power = turbine_data['Patv']\n",
    "\n",
    "result = adfuller(turbine_power.dropna())\n",
    "print('ADF Statistic:', result[0])\n",
    "print('p-value:', result[1])\n",
    "\n",
    "if result[1] > 0.05:\n",
    "    turbine_power_diff = turbine_power.diff().dropna()\n",
    "else:\n",
    "    turbine_power_diff = turbine_power"
   ]
  },
  {
   "cell_type": "code",
   "execution_count": null,
   "metadata": {},
   "outputs": [],
   "source": [
    "fig, ax = plt.subplots(2, 1, figsize=(12, 8))\n",
    "plot_acf(turbine_power_diff.dropna(), lags=48, ax=ax[0])\n",
    "plot_pacf(turbine_power_diff.dropna(), lags=48, ax=ax[1])\n",
    "plt.show()"
   ]
  },
  {
   "cell_type": "code",
   "execution_count": null,
   "metadata": {},
   "outputs": [],
   "source": [
    "for i in range(, 134):\n",
    "    turbine_data = df[df['TurbID'] == i]['Patv'].dropna()\n",
    "    fig, ax = plt.subplots(2, 1, figsize=(12, 8))\n",
    "    plot_acf(turbine_data, lags=48, ax=ax[0])\n",
    "    plot_pacf(turbine_data, lags=48, ax=ax[1])"
   ]
  },
  {
   "cell_type": "code",
   "execution_count": null,
   "metadata": {},
   "outputs": [],
   "source": [
    "stationary_count = 0\n",
    "non_stationary_count = 0\n",
    "\n",
    "for i in range(1, 134):\n",
    "    turbine_data = df[df['TurbID'] == i]\n",
    "\n",
    "    turbine_data['Datetime'] = pd.to_datetime('2024-01-01') + pd.to_timedelta(turbine_data['Day'] - 1, unit='D') + pd.to_timedelta(turbine_data['Tmstamp'] + ':00')\n",
    "\n",
    "    turbine_data.set_index('Datetime', inplace=True)\n",
    "    turbine_data.sort_index(inplace=True)\n",
    "\n",
    "    turbine_power = turbine_data['Patv']\n",
    "\n",
    "    result = adfuller(turbine_power.dropna())\n",
    "    print(f'ID: {i}, ADF: {result[0]}, p-value: {result[1]}')\n",
    "    \n",
    "    if result[1] < 0.05:\n",
    "        stationary_count += 1\n",
    "    else:\n",
    "        non_stationary_count += 1\n",
    "\n",
    "print(stationary_count, non_stationary_count)"
   ]
  },
  {
   "cell_type": "code",
   "execution_count": null,
   "metadata": {},
   "outputs": [],
   "source": [
    "for turbine_id in df['TurbID'].unique():\n",
    "    turbine_data = df[df['TurbID'] == turbine_id]['Patv'].dropna()\n",
    "    print(turbine_id)\n",
    "    plot_acf(turbine_data, lags=48, alpha=0.05)\n",
    "    plot_pacf(turbine_data, lags=48, alpha=0.05)\n",
    "plt.show()"
   ]
  }
 ],
 "metadata": {
  "kernelspec": {
   "display_name": ".venv",
   "language": "python",
   "name": "python3"
  },
  "language_info": {
   "codemirror_mode": {
    "name": "ipython",
    "version": 3
   },
   "file_extension": ".py",
   "mimetype": "text/x-python",
   "name": "python",
   "nbconvert_exporter": "python",
   "pygments_lexer": "ipython3",
   "version": "3.9.4"
  }
 },
 "nbformat": 4,
 "nbformat_minor": 2
}
