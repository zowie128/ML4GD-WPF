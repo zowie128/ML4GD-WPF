{
 "cells": [
  {
   "cell_type": "code",
   "execution_count": 41,
   "metadata": {
    "ExecuteTime": {
     "end_time": "2024-06-28T08:17:59.291587300Z",
     "start_time": "2024-06-28T08:17:59.273723600Z"
    }
   },
   "outputs": [],
   "source": [
    "import sys\n",
    "import csv\n",
    "sys.path.append('..')\n",
    "from BDDData import *\n",
    "import numpy as np\n",
    "import torch\n",
    "import torch.utils.data as data\n",
    "import networkx as nx\n",
    "import matplotlib.pyplot as plt\n",
    "from scipy.linalg import circulant\n",
    "from product_graph import *\n",
    "from utils import *\n",
    "\n",
    "import torch\n",
    "import torch.nn as nn\n",
    "import torch.nn.functional as F\n",
    "\n",
    "from sklearn.impute import SimpleImputer\n",
    "from sklearn.mixture import GaussianMixture"
   ]
  },
  {
   "cell_type": "code",
   "execution_count": 42,
   "metadata": {
    "ExecuteTime": {
     "end_time": "2024-06-28T08:17:59.292585500Z",
     "start_time": "2024-06-28T08:17:59.280270900Z"
    }
   },
   "outputs": [],
   "source": [
    "device = torch.device('cuda' if torch.cuda.is_available() else 'cpu')"
   ]
  },
  {
   "cell_type": "code",
   "execution_count": 43,
   "metadata": {
    "ExecuteTime": {
     "end_time": "2024-06-28T08:18:06.923220600Z",
     "start_time": "2024-06-28T08:17:59.292585500Z"
    }
   },
   "outputs": [
    {
     "name": "stdout",
     "output_type": "stream",
     "text": [
      "(134, 24624)\n"
     ]
    }
   ],
   "source": [
    "#Load dataframes\n",
    "bdd_data = BDD_dataset(\"raw_data/BDDdata/\")\n",
    "#Add column with the timestep\n",
    "bdd_data.add_timestep_id()\n",
    "#Add flags for chaotic values\n",
    "bdd_data.tag_chaotic(replace=True)\n",
    "#Compute the mod for the nazelle and wind angles\n",
    "bdd_data.angle_mod()\n",
    "\n",
    "# ! Don't interpolate this data\n",
    "# ! Missing values remain NaN\n",
    "# #Interpolate the missing values\n",
    "# bdd_data.interpolate_power()\n",
    "\n",
    "#Values smaller than 0 are set to 0\n",
    "bdd_data.cap_power_to_zero()\n",
    "#Normalize Patv feature to [0,1]\n",
    "bdd_data.normalize_power(min=0, max=1, method= \"MinMaxScaler\")\n",
    "#Convert df to matrix form, where only Patv is included. Then split into train, validation and test\n",
    "#The matrix contains the subset of the time series for ALL nodes, so an (TxN matrix)\n",
    "train, val, test = bdd_data.split_df()\n",
    "\n",
    "print(train.shape)"
   ]
  },
  {
   "cell_type": "code",
   "execution_count": 44,
   "metadata": {
    "ExecuteTime": {
     "end_time": "2024-06-28T08:18:06.944305100Z",
     "start_time": "2024-06-28T08:18:06.925215700Z"
    }
   },
   "outputs": [],
   "source": [
    "# set seed\n",
    "np.random.seed(42)\n",
    "# consider a p percentage of the data\n",
    "p = 0.01\n",
    "train_mask = np.random.choice(train.shape[1], int(train.shape[1] * p), replace=False)\n",
    "val_mask = np.random.choice(val.shape[1], int(val.shape[1] * p), replace=False)\n",
    "test_mask = np.random.choice(test.shape[1], int(test.shape[1] * p), replace=False)\n",
    "\n",
    "train = train[:, train_mask]\n",
    "val = val[:, val_mask]\n",
    "test = test[:, test_mask]"
   ]
  },
  {
   "cell_type": "code",
   "execution_count": 45,
   "metadata": {
    "ExecuteTime": {
     "end_time": "2024-06-28T08:18:07.231619300Z",
     "start_time": "2024-06-28T08:18:06.950289300Z"
    }
   },
   "outputs": [],
   "source": [
    "class CustomBDD_Dataset(data.Dataset):\n",
    "    def __init__(self, dataset, observation_window=12, forecast_window=12, starting_turbine = 0,  ending_turbine=133):\n",
    "        self.observation_window = observation_window\n",
    "        self.forecast_window = forecast_window\n",
    "        length = eval(f'len({dataset}[0])')#Retrieves length of dataset\n",
    "        bdd_data.get_observation_forecasting_window(time_series_len=length, observation_steps=self.observation_window, forecast_steps=self.forecast_window)#Generates obs window\n",
    "        self.window_of_interest =  bdd_data.sliding_indices[str(self.observation_window)+\",\"+str(self.forecast_window)]#Retrieves windows\n",
    "        self.starting_turbine = starting_turbine\n",
    "        self.ending_turbine = ending_turbine  \n",
    "        self.dataset = dataset\n",
    "\n",
    "    def __len__(self):\n",
    "        return len(self.window_of_interest)\n",
    "\n",
    "    def __getitem__(self, idx):\n",
    "        window = self.window_of_interest[idx]\n",
    "        if self.dataset == \"train\":\n",
    "            features = train[self.starting_turbine:self.ending_turbine+1,window[0]:window[1]].transpose().reshape(-1, 1)\n",
    "            labels = train[self.starting_turbine:self.ending_turbine+1,window[1]:window[2]].transpose().reshape(-1, 1)\n",
    "        elif self.dataset == \"val\":\n",
    "            features = val[self.starting_turbine:self.ending_turbine+1,window[0]:window[1]].transpose().reshape(-1, 1)\n",
    "            labels = val[self.starting_turbine:self.ending_turbine+1,window[1]:window[2]].transpose().reshape(-1, 1)\n",
    "        elif self.dataset == \"test\":\n",
    "            features = test[self.starting_turbine:self.ending_turbine+1,window[0]:window[1]].transpose().reshape(-1, 1)\n",
    "            labels = test[self.starting_turbine:self.ending_turbine+1,window[1]:window[2]].transpose().reshape(-1, 1)\n",
    "        else:\n",
    "            raise NotImplementedError\n",
    "        return torch.from_numpy(features).float(), torch.from_numpy(labels).float()\n",
    "    \n",
    "obs_window = 12\n",
    "forecast_window = 12\n",
    "batch_size = 100\n",
    "\n",
    "train_dataset = CustomBDD_Dataset(\"train\",observation_window=obs_window,forecast_window=forecast_window)\n",
    "train_loader = data.DataLoader(train_dataset, shuffle=True, batch_size = batch_size)\n",
    "val_dataset = CustomBDD_Dataset(\"val\",observation_window=obs_window,forecast_window=forecast_window)\n",
    "val_loader = data.DataLoader(val_dataset, shuffle=True, batch_size = batch_size)"
   ]
  },
  {
   "cell_type": "code",
   "execution_count": 46,
   "metadata": {
    "ExecuteTime": {
     "end_time": "2024-06-28T08:18:07.239067200Z",
     "start_time": "2024-06-28T08:18:07.231619300Z"
    }
   },
   "outputs": [
    {
     "name": "stdout",
     "output_type": "stream",
     "text": [
      "x.shape=torch.Size([100, 1608, 1])\n",
      "y.shape=torch.Size([100, 1608, 1])\n"
     ]
    }
   ],
   "source": [
    "x,y = next(iter(train_loader))\n",
    "print(f\"{x.shape=}\\n{y.shape=}\")"
   ]
  },
  {
   "cell_type": "code",
   "execution_count": 47,
   "metadata": {
    "ExecuteTime": {
     "end_time": "2024-06-28T08:18:07.298318500Z",
     "start_time": "2024-06-28T08:18:07.240064200Z"
    }
   },
   "outputs": [],
   "source": [
    "G = nx.read_gml('data/spatial_graph_2000.gml')\n",
    "adj_mat = nx.adjacency_matrix(G)\n",
    "adj_mat = nx.to_numpy_array(G)"
   ]
  },
  {
   "cell_type": "code",
   "execution_count": 48,
   "metadata": {
    "ExecuteTime": {
     "end_time": "2024-06-28T08:18:07.303817700Z",
     "start_time": "2024-06-28T08:18:07.299314900Z"
    }
   },
   "outputs": [],
   "source": [
    "def build_time_graph(window: int, directed: bool, cyclic: bool):\n",
    "    \"\"\"\n",
    "    Circulant matrix as in https://arxiv.org/pdf/1712.00468.pdf (eq. 7)\n",
    "    \"\"\"\n",
    "    if window <= 1:\n",
    "        raise Exception(\"Ehm..\")\n",
    "    adjacency = circulant([0, 1] + [0 for _ in range(window-2)])\n",
    "    if not cyclic:\n",
    "        adjacency[0, window-1] = 0\n",
    "    if not directed:\n",
    "        adjacency += adjacency.transpose()\n",
    "\n",
    "    return adjacency"
   ]
  },
  {
   "cell_type": "code",
   "execution_count": 49,
   "metadata": {
    "ExecuteTime": {
     "end_time": "2024-06-28T08:18:07.400034400Z",
     "start_time": "2024-06-28T08:18:07.304816500Z"
    }
   },
   "outputs": [
    {
     "name": "stdout",
     "output_type": "stream",
     "text": [
      "[[0 0 0 0 0 0 0 0 0 0 0 0]\n",
      " [1 0 0 0 0 0 0 0 0 0 0 0]\n",
      " [0 1 0 0 0 0 0 0 0 0 0 0]\n",
      " [0 0 1 0 0 0 0 0 0 0 0 0]\n",
      " [0 0 0 1 0 0 0 0 0 0 0 0]\n",
      " [0 0 0 0 1 0 0 0 0 0 0 0]\n",
      " [0 0 0 0 0 1 0 0 0 0 0 0]\n",
      " [0 0 0 0 0 0 1 0 0 0 0 0]\n",
      " [0 0 0 0 0 0 0 1 0 0 0 0]\n",
      " [0 0 0 0 0 0 0 0 1 0 0 0]\n",
      " [0 0 0 0 0 0 0 0 0 1 0 0]\n",
      " [0 0 0 0 0 0 0 0 0 0 1 0]]\n"
     ]
    },
    {
     "data": {
      "image/png": "[encoded data removed]",
      "text/plain": [
       "<Figure size 640x480 with 1 Axes>"
      ]
     },
     "metadata": {},
     "output_type": "display_data"
    }
   ],
   "source": [
    "timegraph = build_time_graph(12,True,False)\n",
    "print(timegraph)\n",
    "tg = nx.from_numpy_array(timegraph)\n",
    "nx.draw(tg)"
   ]
  },
  {
   "cell_type": "code",
   "execution_count": 50,
   "metadata": {
    "ExecuteTime": {
     "end_time": "2024-06-28T08:18:07.405694100Z",
     "start_time": "2024-06-28T08:18:07.403192600Z"
    }
   },
   "outputs": [],
   "source": [
    "# Normalize the adjacency matrix\n",
    "S = normalize_adjacency(torch.tensor(adj_mat)).float()\n",
    "S_t = torch.tensor(timegraph)"
   ]
  },
  {
   "cell_type": "code",
   "execution_count": 51,
   "metadata": {
    "ExecuteTime": {
     "end_time": "2024-06-28T08:18:07.552057Z",
     "start_time": "2024-06-28T08:18:07.407687500Z"
    }
   },
   "outputs": [],
   "source": [
    "# Cartesian\n",
    "pg = build_parametric_product_graph(S_t, S, 0, 1, 1, 1).float().to(device)"
   ]
  },
  {
   "cell_type": "code",
   "execution_count": 52,
   "metadata": {
    "ExecuteTime": {
     "end_time": "2024-06-28T08:18:07.558928500Z",
     "start_time": "2024-06-28T08:18:07.515055100Z"
    }
   },
   "outputs": [
    {
     "name": "stdout",
     "output_type": "stream",
     "text": [
      "torch.Size([1608, 1608])\n"
     ]
    }
   ],
   "source": [
    "print(pg.shape)"
   ]
  },
  {
   "cell_type": "code",
   "execution_count": 53,
   "metadata": {
    "ExecuteTime": {
     "end_time": "2024-06-28T08:18:07.558928500Z",
     "start_time": "2024-06-28T08:18:07.522628800Z"
    }
   },
   "outputs": [],
   "source": [
    "# FOR GMM Implementation\n",
    "# ! Taken from the paper.\n",
    "def ex_relu(mu, sigma):\n",
    "    is_zero = sigma == 0\n",
    "    sigma = torch.where(is_zero, torch.tensor(1e-10, device=sigma.device), sigma)\n",
    "    sqrt_sigma = torch.sqrt(sigma)\n",
    "    w = torch.div(mu, sqrt_sigma)\n",
    "    nr_values = sqrt_sigma * (\n",
    "            torch.div(torch.exp(torch.div(-w * w, 2)), np.sqrt(2 * np.pi))\n",
    "            + torch.div(w, 2) * (1 + torch.erf(torch.div(w, np.sqrt(2))))\n",
    "    )\n",
    "    nr_values = torch.where(is_zero, F.relu(mu), nr_values)\n",
    "    return nr_values"
   ]
  },
  {
   "cell_type": "code",
   "execution_count": 54,
   "metadata": {
    "ExecuteTime": {
     "end_time": "2024-06-28T08:18:07.559926300Z",
     "start_time": "2024-06-28T08:18:07.552057Z"
    }
   },
   "outputs": [],
   "source": [
    "class GMMGCNNLayer(nn.Module):\n",
    "    \"\"\"This extends the GMMGCNLayer, adding order q. Forward pass LMW becomes Sum over q of L^qMW.\"\"\"\n",
    "\n",
    "    def _init_gmm(self, features, K):\n",
    "        # Simply impute the values once for initialization of the gmm.\n",
    "        # Keep empty features\n",
    "        imputer = SimpleImputer(\n",
    "            missing_values=np.nan, strategy=\"mean\", keep_empty_features=True\n",
    "        )\n",
    "        imputed_x = imputer.fit_transform(features)\n",
    "        gmm = GaussianMixture(n_components=K, covariance_type=\"diag\").fit(imputed_x)\n",
    "        return gmm\n",
    "\n",
    "    # ! Taken from the paper.\n",
    "    def _calc_responsibility(self, mean_mat, variances):\n",
    "        dim = self.in_features\n",
    "        log_n = (\n",
    "                (-1 / 2)\n",
    "                * torch.sum(\n",
    "            torch.pow(mean_mat - self.mu.unsqueeze(1), 2) / variances.unsqueeze(1),\n",
    "            2,\n",
    "        )\n",
    "                - (dim / 2) * np.log(2 * np.pi)\n",
    "                - (1 / 2) * torch.sum(self.sigma)\n",
    "        )\n",
    "        log_prob = self.pi.unsqueeze(1) + log_n\n",
    "        return torch.softmax(log_prob, dim=0)\n",
    "\n",
    "    def __init__(\n",
    "        self,\n",
    "        in_features,\n",
    "        out_features,\n",
    "        num_components,\n",
    "        all_features,\n",
    "        all_A,\n",
    "        order,\n",
    "        device=\"cpu\",\n",
    "    ) -> None:\n",
    "        super(GMMGCNNLayer, self).__init__()\n",
    "\n",
    "        self.device = device\n",
    "\n",
    "        self.num_components = num_components\n",
    "        self.in_features = in_features\n",
    "        self.out_features = out_features\n",
    "\n",
    "        # All feature data, used for initialization of the GMM.\n",
    "        self.all_features = all_features\n",
    "\n",
    "        self.all_A = all_A\n",
    "        self.order = order\n",
    "\n",
    "        # Initialize the weights\n",
    "        self.weights = nn.Parameter(torch.FloatTensor(order+1, in_features, out_features))\n",
    "        nn.init.xavier_uniform_(self.weights)\n",
    "\n",
    "        # Initialize GMM and its parameters (we're going to learn these)\n",
    "        self.gmm = self._init_gmm(self.all_features, self.num_components)\n",
    "        self.pi = nn.Parameter(torch.FloatTensor(np.log(self.gmm.weights_))).to(\n",
    "            self.device\n",
    "        )\n",
    "        self.mu = nn.Parameter(torch.FloatTensor(self.gmm.means_).to(self.device))\n",
    "        self.sigma = nn.Parameter(\n",
    "            torch.FloatTensor(np.log(self.gmm.covariances_)).to(self.device)\n",
    "        )\n",
    "\n",
    "        # Prepare shifts for all orders in one go\n",
    "        self.shifts = [torch.matrix_power(all_A, q) for q in range(self.order+1)]\n",
    "        # self.A2s = [torch.mul(self.shifts[q], self.shifts[q]).to(self.device) for q in range(self.order+1)]\n",
    "        self.A2s = []\n",
    "        for q1 in range(order+1):\n",
    "            for q2 in range(order+1):\n",
    "                 self.A2s.append(torch.spmm(self.shifts[q1], self.shifts[q2]))\n",
    "\n",
    "    def forward(self, features):\n",
    "        batch_size = features.size(0)\n",
    "        tensor_list = []\n",
    "        for i in range(batch_size):\n",
    "            out = self._forward(features[i])\n",
    "            tensor_list.append(out)\n",
    "        return torch.stack(tensor_list, dim=0)\n",
    "\n",
    "    def _forward(self, features):\n",
    "        x_imp = features.repeat(self.num_components, 1, 1)\n",
    "        x_isnan = torch.isnan(x_imp)\n",
    "        variances = torch.exp(self.sigma)\n",
    "        # M\n",
    "        mean_mat = torch.where(\n",
    "            x_isnan, self.mu.repeat((features.size(0), 1, 1)).permute(1, 0, 2), x_imp\n",
    "        )\n",
    "        # S\n",
    "        var_mat = torch.where(\n",
    "            x_isnan,\n",
    "            variances.repeat((features.size(0), 1, 1)).permute(1, 0, 2),\n",
    "            torch.zeros(size=x_imp.size(), device=self.device, requires_grad=True),\n",
    "        )\n",
    "\n",
    "        # M^kW\n",
    "        transform_x = []\n",
    "        for q in range(self.order+1):\n",
    "            transform_x.append(torch.matmul(mean_mat, self.weights[q]))\n",
    "        # Becomes: # M^k W_q\n",
    "        # S^k (W * W)\n",
    "        # transform_covs = torch.matmul(var_mat, self.weight * self.weight)\n",
    "        # Becomes:\n",
    "        transform_covs = []\n",
    "        for q1 in range(self.order+1):\n",
    "            for q2 in range(self.order+1):\n",
    "                transform_covs.append(torch.matmul(var_mat, self.weights[q1] * self.weights[q2]))\n",
    "        \n",
    "        conv_x = []\n",
    "        conv_covs = []\n",
    "\n",
    "        # for component_x in transform_x:\n",
    "        for component_index in range(self.num_components):\n",
    "            # First:\n",
    "            # LM^kW\n",
    "            # conv_x.append(torch.spmm(shift, component_x))\n",
    "\n",
    "            # Becomes:\n",
    "            # sum over Q of (L^q M^k W)\n",
    "\n",
    "            # Second iteration, becomes:\n",
    "            # Add weights for every layer.\n",
    "            # sum over Q of (L^q M^k W_q)\n",
    "            out = torch.stack([torch.spmm(self.shifts[q], transform_x[q][component_index]) for q in range(self.order+1)]).mean(dim=0)\n",
    "\n",
    "            conv_x.append(out)\n",
    "\n",
    "        # Transform_covs used to be shape: torch.Size([5, 1608, 1])\n",
    "        # for component_covs in transform_covs:\n",
    "        for component_index in range(self.num_components):\n",
    "            # First:\n",
    "            # (L*L) S^k\n",
    "            # conv_covs.append(torch.spmm(self.A2, component_covs))\n",
    "\n",
    "            # Becomes:\n",
    "            # sum over Q of ( (L^q * L^q) S^k W * W)\n",
    "            # out = torch.stack([torch.spmm(self.A2s[q], component_covs) for q in range(self.order)]).mean(dim=0)\n",
    "\n",
    "            # Second iteration, becomes:\n",
    "            # sum over Q of ( (L^q1 * L^q2) S^k W_q1 * W_q1)\n",
    "            out = []\n",
    "            for q1 in range(self.order+1):\n",
    "                for q2 in range(self.order+1):\n",
    "                    # Index where we retrieve the precomputed tensors from\n",
    "                    index = q1*(self.order+1)+q2\n",
    "                    component_cov = transform_covs[index][component_index]\n",
    "                    weights = self.weights[q1] * self.weights[q2]\n",
    "                    # out.append(torch.spmm(torch.spmm(torch.spmm(torch.matrix_power(self.all_A, q1), torch.matrix_power(self.all_A, q2)), component_cov), weights.T))\n",
    "                    out.append(torch.spmm(torch.spmm(self.A2s[index], component_cov), weights.T))\n",
    "                \n",
    "            conv_covs.append(torch.stack(out).mean(dim=0))\n",
    "\n",
    "        transform_x = torch.stack(conv_x, dim=0)\n",
    "        transform_covs = torch.stack(conv_covs, dim=0)\n",
    "        # ReLU[N(M, S)]\n",
    "        expected_x = ex_relu(transform_x, transform_covs)\n",
    "\n",
    "        # calculate responsibility\n",
    "        gamma = self._calc_responsibility(mean_mat, variances)\n",
    "        # ReLU[(LXW)]\n",
    "        expected_x = torch.sum(expected_x * gamma.unsqueeze(2), dim=0)\n",
    "        # Check for NaNs\n",
    "        if torch.isnan(expected_x).any():\n",
    "            print(\"NaN detected in expected_x:\")\n",
    "        return expected_x"
   ]
  },
  {
   "cell_type": "code",
   "execution_count": 55,
   "metadata": {
    "ExecuteTime": {
     "end_time": "2024-06-28T08:18:07.567184800Z",
     "start_time": "2024-06-28T08:18:07.562918500Z"
    }
   },
   "outputs": [],
   "source": [
    "class GCNNLayer(nn.Module):\n",
    "    def __init__(self, in_features, out_features, matrix_powers, order):\n",
    "        super(GCNNLayer, self).__init__()\n",
    "        self.matrix_powers = matrix_powers\n",
    "        self.order = order\n",
    "        self.weights = nn.Parameter(torch.FloatTensor(in_features, out_features, order+1))\n",
    "        # use Xavier initialization to match variance of input with output\n",
    "        nn.init.xavier_uniform_(self.weights)\n",
    "\n",
    "    def forward(self, features):\n",
    "        batch_size = features.size(0)\n",
    "        output_dim = self.weights.size(1)\n",
    "        device = features.device\n",
    "\n",
    "        out = torch.zeros((batch_size, features.size(1), output_dim), device=device)\n",
    "        for k in range(self.order+1):\n",
    "            weighted = torch.bmm(features, self.weights[:, :, k].unsqueeze(0).repeat(batch_size, 1, 1))\n",
    "            shifted = torch.bmm(self.matrix_powers[k].unsqueeze(0).repeat(batch_size, 1, 1).to(device), weighted)\n",
    "            out += shifted\n",
    "        return out"
   ]
  },
  {
   "cell_type": "code",
   "execution_count": 56,
   "metadata": {
    "ExecuteTime": {
     "end_time": "2024-06-28T08:18:07.582713900Z",
     "start_time": "2024-06-28T08:18:07.577159300Z"
    }
   },
   "outputs": [],
   "source": [
    "class GMMGCNN(nn.Module):\n",
    "\n",
    "    def __init__(\n",
    "        self, obs_size, pred_size, hid_sizes, num_components, all_features, all_A, order\n",
    "    ):\n",
    "        super(GMMGCNN, self).__init__()\n",
    "        self.layers = nn.ModuleList()\n",
    "\n",
    "        # First layer is a GCNN that incorporates the GMM.\n",
    "        self.layers.append(\n",
    "            GMMGCNNLayer(\n",
    "                obs_size, hid_sizes[0], num_components, all_features, all_A, order, device=device\n",
    "            )\n",
    "        )\n",
    "\n",
    "        # Later layers are regular GCNNs.\n",
    "        # Precompute the matrix powers.\n",
    "        matrix_powers = []\n",
    "        for q in range(order+1):\n",
    "            matrix_powers.append(torch.matrix_power(all_A, q))\n",
    "        # num_hid hidden layers of size hid_size\n",
    "        for i in range(len(hid_sizes) - 1):\n",
    "            self.layers.append(GCNNLayer(hid_sizes[i], hid_sizes[i + 1], matrix_powers, order))\n",
    "        self.layers.append(GCNNLayer(hid_sizes[-1], pred_size, matrix_powers, order))\n",
    "\n",
    "    def forward(self, features):\n",
    "        # print(f\"forward in: {features}\")\n",
    "        # No relu for the first layer, it is a GMM layer.\n",
    "        temp = self.layers[0].forward(features)\n",
    "        # print(f\"after gmmgcnn layer: {temp}\")\n",
    "        for layer in self.layers[1:-1]:\n",
    "            # use relu activation function\n",
    "            # No shift operator necessary for the GCNN, it is already added to the initatialization.\n",
    "            temp = F.relu(layer(temp))\n",
    "        # Last layer no relu\n",
    "        return self.layers[-1](temp)"
   ]
  },
  {
   "cell_type": "code",
   "execution_count": 57,
   "metadata": {
    "ExecuteTime": {
     "end_time": "2024-06-28T08:18:07.630513600Z",
     "start_time": "2024-06-28T08:18:07.585706Z"
    }
   },
   "outputs": [],
   "source": [
    "import time\n",
    "\n",
    "class MaskedMSELoss(nn.Module):\n",
    "    def __init__(self):\n",
    "        super(MaskedMSELoss, self).__init__()\n",
    "\n",
    "    def forward(self, prediction, target):\n",
    "        # Create a mask that is 1 for non-NaN entries and 0 for NaN entries\n",
    "        mask = ~torch.isnan(target)\n",
    "        # Apply the mask to only keep non-NaN elements\n",
    "        out = prediction[mask]\n",
    "        tar = target[mask]\n",
    "        # Calculate MSE Loss on non-NaN elements\n",
    "        return nn.functional.mse_loss(out, tar)\n",
    "\n",
    "def train_epoch_gcnn(model, loader, optimizer, criterion):\n",
    "    model.train()\n",
    "    total_loss = 0\n",
    "    for x, y in loader:\n",
    "        x, y = x.to(device), y.to(device)\n",
    "        out = model(x)\n",
    "        loss = criterion(out, y)\n",
    "        loss.backward()\n",
    "        optimizer.step()\n",
    "        optimizer.zero_grad()\n",
    "        total_loss += loss.item()\n",
    "    return total_loss / len(loader)\n",
    "\n",
    "\n",
    "@torch.no_grad()\n",
    "def evaluate_epoch_gcnn(model, loader, criterion):\n",
    "    model.eval()\n",
    "    total_loss = 0\n",
    "\n",
    "    for x, y in loader:\n",
    "        x, y = x.to(device), y.to(device)\n",
    "        out = model(x)\n",
    "        loss = criterion(out, y)\n",
    "        total_loss += loss.item()\n",
    "    return total_loss / len(loader)\n",
    "\n",
    "\n",
    "def train_gcnn(model, shift, num_epochs, criterion, train_loader, test_loader):\n",
    "    optimizer = torch.optim.Adam(model.parameters(), lr=0.1, weight_decay=5e-4)\n",
    "\n",
    "    start_time = time.time()\n",
    "    train_losses = []\n",
    "    val_losses = []\n",
    "\n",
    "    for epoch in range(1, num_epochs + 1):\n",
    "        # Model training\n",
    "        train_loss = train_epoch_gcnn(model, train_loader, optimizer, criterion)\n",
    "\n",
    "        # Model validation\n",
    "        val_loss = evaluate_epoch_gcnn(model, test_loader, criterion)\n",
    "\n",
    "        train_losses.append(train_loss)\n",
    "        val_losses.append(val_loss)\n",
    "\n",
    "        if epoch % 1 == 0:\n",
    "            print(\n",
    "                \"epoch:\",\n",
    "                epoch,\n",
    "                \"\\t training loss:\",\n",
    "                np.round(train_loss, 4),\n",
    "                \"\\t validation loss:\",\n",
    "                np.round(val_loss, 4),\n",
    "            )\n",
    "\n",
    "    elapsed_time = time.time() - start_time\n",
    "    print(f\"Model training took {elapsed_time:.3f} seconds\")\n",
    "\n",
    "    return train_losses, val_losses"
   ]
  },
  {
   "cell_type": "code",
   "execution_count": 58,
   "metadata": {
    "ExecuteTime": {
     "end_time": "2024-06-28T09:16:15.070199600Z",
     "start_time": "2024-06-28T08:18:07.602588900Z"
    }
   },
   "outputs": [
    {
     "name": "stdout",
     "output_type": "stream",
     "text": [
      "Created GMM-GTCNN model with 33295 parameters:\n",
      "layers.0.weights torch.Size([2, 1, 128])\n",
      "layers.0.pi torch.Size([5])\n",
      "layers.0.mu torch.Size([5, 1])\n",
      "layers.0.sigma torch.Size([5, 1])\n",
      "layers.1.weights torch.Size([128, 128, 2])\n",
      "layers.2.weights torch.Size([128, 1, 2])\n",
      "epoch: 1 \t training loss: 214.1627 \t validation loss: 1.9655\n",
      "epoch: 2 \t training loss: 7.7569 \t validation loss: 0.0514\n",
      "epoch: 3 \t training loss: 0.1345 \t validation loss: 0.0633\n",
      "epoch: 4 \t training loss: 0.1127 \t validation loss: 0.0615\n",
      "epoch: 5 \t training loss: 0.1094 \t validation loss: 0.0689\n",
      "epoch: 6 \t training loss: 0.0973 \t validation loss: 0.0578\n",
      "epoch: 7 \t training loss: 0.0999 \t validation loss: 0.0678\n",
      "epoch: 8 \t training loss: 0.0907 \t validation loss: 0.0549\n",
      "epoch: 9 \t training loss: 0.0963 \t validation loss: 0.0599\n",
      "epoch: 10 \t training loss: 0.0956 \t validation loss: 0.0571\n",
      "Model training took 193.233 seconds\n"
     ]
    }
   ],
   "source": [
    "all_features = train.reshape(-1, 1)\n",
    "all_A = pg.to(device)\n",
    "\n",
    "n_components = 5\n",
    "order = 1\n",
    "num_epochs = 10\n",
    "model = GMMGCNN(obs_size=1, pred_size=1, hid_sizes=[128, 128], num_components=n_components, all_features=all_features, all_A=all_A, order=order).to(device)\n",
    "\n",
    "pytorch_total_params = sum(p.numel() for p in model.parameters() if p.requires_grad)\n",
    "print(f\"Created GMM-GTCNN model with {pytorch_total_params} parameters:\")\n",
    "\n",
    "for name, param in model.named_parameters():\n",
    "    if param.requires_grad:\n",
    "        print(name, param.data.size())\n",
    "\n",
    "# Train the model\n",
    "train_losses, val_losses = train_gcnn(model, all_A, num_epochs, MaskedMSELoss(), train_loader, val_loader)"
   ]
  },
  {
   "cell_type": "code",
   "execution_count": 59,
   "metadata": {
    "ExecuteTime": {
     "end_time": "2024-06-28T12:54:54.006087800Z",
     "start_time": "2024-06-28T12:54:53.980157Z"
    },
    "collapsed": false
   },
   "outputs": [],
   "source": [
    "# Save the model\n",
    "torch.save(model.state_dict(), 'results/gmm_gcnn_e=10_d=1.0_k=1_mm=5[128,128,1].pth')"
   ]
  },
  {
   "cell_type": "code",
   "execution_count": null,
   "metadata": {
    "collapsed": false
   },
   "outputs": [],
   "source": []
  }
 ],
 "metadata": {
  "kernelspec": {
   "display_name": "cse-ml4gd",
   "language": "python",
   "name": "python3"
  },
  "language_info": {
   "codemirror_mode": {
    "name": "ipython",
    "version": 3
   },
   "file_extension": ".py",
   "mimetype": "text/x-python",
   "name": "python",
   "nbconvert_exporter": "python",
   "pygments_lexer": "ipython3",
   "version": "3.12.3"
  }
 },
 "nbformat": 4,
 "nbformat_minor": 2
}
